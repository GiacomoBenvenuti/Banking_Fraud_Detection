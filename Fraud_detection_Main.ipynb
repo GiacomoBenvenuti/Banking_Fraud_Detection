{
 "cells": [
  {
   "cell_type": "markdown",
   "metadata": {
    "id": "uQEnoLmVOVrI"
   },
   "source": [
    "# Fraud detection in bank transactions\n",
    "by Giacomo Benvenuti\n",
    "\n",
    "---\n",
    "### Motivation\n",
    "The customer is an issuing bank seeking a machine learning solution to solve a growing fraud problem.\n",
    "\n",
    "The bank’s customers are having their cards defrauded and their money is being spent by fraudsters. This is causing customer dissatisfaction, so the bank is looking into introducing better transactional monitoring on activity on their customers’ cards. \n",
    "\n",
    "They plan to have a small team of fraud analysts who review risky-looking purchases and decide whether to allow or block the transaction. This team will have the capacity to review 400 transactions a month. The scores from my model will be used to decide which transactions the fraud analysts should review. \n",
    "\n",
    "**The bank has provided 1 year of historical transactional data and fraud flags and asked me to build a model which predicts the likelihood that a transaction is later marked as fraud**. \n",
    "\n",
    "---\n",
    "### Summary \n",
    "The goal of this study is the selection of a machine learning pipeline to predict the probability of future frauds based on trasactions features. \n",
    "\n",
    "After exploring the data, I created many diffent new features and tested several classification algorithms (supervised and unsupervised). \n",
    "\n",
    "I found that a Random Forest Classifier produces the best performance. \n",
    "\n",
    "I optimized the hyperparameters of this classifier and estimated the performance on the test set. \n",
    "\n",
    "Overall, using this model our client will detect 15 times more frauds than by randomly selecting the transactions to check. \n",
    "\n",
    "I also show that what is limiting the detection of new frauds is that the data change significantly across time. If we were trying to predict fraud over the same time period as the trainig set, the peformance of the model would be 3 times better.  \n",
    "\n",
    "I also start optimizing a shallow neural network for the same task, but for now it underperforms the Random Foreset classifier.  "
   ]
  },
  {
   "cell_type": "markdown",
   "metadata": {},
   "source": [
    "## Import libraries"
   ]
  },
  {
   "cell_type": "code",
   "execution_count": 2,
   "metadata": {
    "id": "0upPNGFbOVrN"
   },
   "outputs": [],
   "source": [
    "import pandas as pd\n",
    "import numpy as np\n",
    "import seaborn as sns\n",
    "from datetime import datetime\n",
    "\n",
    "import matplotlib as mpl\n",
    "import matplotlib.pyplot as plt\n",
    "mpl.rc('axes', labelsize=12)\n",
    "mpl.rc('xtick', labelsize=12)\n",
    "mpl.rc('ytick', labelsize=12)\n",
    "\n",
    "\n",
    "from sklearn.preprocessing import LabelEncoder, StandardScaler\n",
    "from sklearn.pipeline import Pipeline\n",
    "from sklearn.metrics import roc_auc_score, f1_score, confusion_matrix, precision_recall_curve\n",
    "from sklearn.model_selection import RandomizedSearchCV, PredefinedSplit, StratifiedShuffleSplit\n",
    "from sklearn.feature_selection import mutual_info_classif\n",
    "\n",
    "# models \n",
    "from sklearn.svm import SVC, NuSVC, OneClassSVM\n",
    "from sklearn.tree import DecisionTreeClassifier\n",
    "from sklearn.ensemble import RandomForestClassifier, AdaBoostClassifier, GradientBoostingClassifier\n",
    "from sklearn.linear_model import LogisticRegression\n",
    "from sklearn.cluster import KMeans\n",
    "from sklearn.neighbors import KNeighborsClassifier\n",
    "from tensorflow import keras"
   ]
  },
  {
   "cell_type": "markdown",
   "metadata": {
    "id": "vPVFljVqOVrQ"
   },
   "source": [
    "## Data importation and formatting"
   ]
  },
  {
   "cell_type": "code",
   "execution_count": 3,
   "metadata": {
    "colab": {
     "base_uri": "https://localhost:8080/"
    },
    "id": "ZBGNVSz_OVrR",
    "outputId": "d6e8bc42-6e60-4f8a-8091-6b795c83dc48"
   },
   "outputs": [
    {
     "name": "stdout",
     "output_type": "stream",
     "text": [
      "data loaded\n"
     ]
    }
   ],
   "source": [
    "data = pd.read_csv('https://raw.githubusercontent.com/GiacomoBenvenuti/Banking_Fraud_Detection/main/data/transactions_obf.csv')\n",
    "target = pd.read_csv('https://raw.githubusercontent.com/GiacomoBenvenuti/Banking_Fraud_Detection/main/data/labels_obf.csv')\n",
    "print('data loaded')\n",
    "\n",
    "#----------------------\n",
    "# Labels Preparation\n",
    "#----------------------\n",
    "# Fomat tareget labels: \n",
    "# fraud labels are provided as events. \n",
    "# To train models we need to convert them to \n",
    "# a list of 0 or 1 for each transaction\n",
    "ind_dict = dict((k,i) for i,k in enumerate(data.eventId))\n",
    "inter = set(ind_dict).intersection(target.eventId)\n",
    "indices = [ ind_dict[x] for x in inter ]\n",
    "indices.sort()\n",
    "y = np.zeros(data.shape[0])\n",
    "y[indices] = 1"
   ]
  },
  {
   "cell_type": "markdown",
   "metadata": {
    "id": "C5qEYkOIOVrS"
   },
   "source": [
    "## Data Exploration"
   ]
  },
  {
   "cell_type": "code",
   "execution_count": 3,
   "metadata": {
    "id": "DmYrqmZbOVrT",
    "outputId": "f4c38731-b4a8-46e3-a261-97d7bf64bde9"
   },
   "outputs": [
    {
     "data": {
      "text/html": [
       "<div>\n",
       "<style scoped>\n",
       "    .dataframe tbody tr th:only-of-type {\n",
       "        vertical-align: middle;\n",
       "    }\n",
       "\n",
       "    .dataframe tbody tr th {\n",
       "        vertical-align: top;\n",
       "    }\n",
       "\n",
       "    .dataframe thead th {\n",
       "        text-align: right;\n",
       "    }\n",
       "</style>\n",
       "<table border=\"1\" class=\"dataframe\">\n",
       "  <thead>\n",
       "    <tr style=\"text-align: right;\">\n",
       "      <th></th>\n",
       "      <th>transactionTime</th>\n",
       "      <th>eventId</th>\n",
       "      <th>accountNumber</th>\n",
       "      <th>merchantId</th>\n",
       "      <th>mcc</th>\n",
       "      <th>merchantCountry</th>\n",
       "      <th>merchantZip</th>\n",
       "      <th>posEntryMode</th>\n",
       "      <th>transactionAmount</th>\n",
       "      <th>availableCash</th>\n",
       "    </tr>\n",
       "  </thead>\n",
       "  <tbody>\n",
       "    <tr>\n",
       "      <th>0</th>\n",
       "      <td>2017-01-01T00:00:00Z</td>\n",
       "      <td>18688431A1</td>\n",
       "      <td>94f9b4e7</td>\n",
       "      <td>b76d06</td>\n",
       "      <td>5968</td>\n",
       "      <td>826</td>\n",
       "      <td>CR0</td>\n",
       "      <td>1</td>\n",
       "      <td>10.72</td>\n",
       "      <td>7500</td>\n",
       "    </tr>\n",
       "    <tr>\n",
       "      <th>1</th>\n",
       "      <td>2017-01-01T00:49:03Z</td>\n",
       "      <td>2164986A1</td>\n",
       "      <td>648e19cf</td>\n",
       "      <td>718cc6</td>\n",
       "      <td>5499</td>\n",
       "      <td>826</td>\n",
       "      <td>DE14</td>\n",
       "      <td>81</td>\n",
       "      <td>21.19</td>\n",
       "      <td>4500</td>\n",
       "    </tr>\n",
       "    <tr>\n",
       "      <th>2</th>\n",
       "      <td>2017-01-01T00:43:17Z</td>\n",
       "      <td>31294145A1</td>\n",
       "      <td>c0ffab1b</td>\n",
       "      <td>94cafc</td>\n",
       "      <td>5735</td>\n",
       "      <td>442</td>\n",
       "      <td>NaN</td>\n",
       "      <td>81</td>\n",
       "      <td>5.04</td>\n",
       "      <td>9500</td>\n",
       "    </tr>\n",
       "    <tr>\n",
       "      <th>3</th>\n",
       "      <td>2017-01-01T00:15:07Z</td>\n",
       "      <td>11162049A1</td>\n",
       "      <td>038099dd</td>\n",
       "      <td>7d5803</td>\n",
       "      <td>5499</td>\n",
       "      <td>826</td>\n",
       "      <td>NR1</td>\n",
       "      <td>81</td>\n",
       "      <td>21.00</td>\n",
       "      <td>7500</td>\n",
       "    </tr>\n",
       "    <tr>\n",
       "      <th>4</th>\n",
       "      <td>2017-01-01T00:37:09Z</td>\n",
       "      <td>17067235A1</td>\n",
       "      <td>3130363b</td>\n",
       "      <td>12ca76</td>\n",
       "      <td>5411</td>\n",
       "      <td>826</td>\n",
       "      <td>M50</td>\n",
       "      <td>81</td>\n",
       "      <td>47.00</td>\n",
       "      <td>10500</td>\n",
       "    </tr>\n",
       "  </tbody>\n",
       "</table>\n",
       "</div>"
      ],
      "text/plain": [
       "        transactionTime     eventId accountNumber merchantId   mcc  \\\n",
       "0  2017-01-01T00:00:00Z  18688431A1      94f9b4e7     b76d06  5968   \n",
       "1  2017-01-01T00:49:03Z   2164986A1      648e19cf     718cc6  5499   \n",
       "2  2017-01-01T00:43:17Z  31294145A1      c0ffab1b     94cafc  5735   \n",
       "3  2017-01-01T00:15:07Z  11162049A1      038099dd     7d5803  5499   \n",
       "4  2017-01-01T00:37:09Z  17067235A1      3130363b     12ca76  5411   \n",
       "\n",
       "   merchantCountry merchantZip  posEntryMode  transactionAmount  availableCash  \n",
       "0              826         CR0             1              10.72           7500  \n",
       "1              826        DE14            81              21.19           4500  \n",
       "2              442         NaN            81               5.04           9500  \n",
       "3              826         NR1            81              21.00           7500  \n",
       "4              826         M50            81              47.00          10500  "
      ]
     },
     "execution_count": 3,
     "metadata": {},
     "output_type": "execute_result"
    }
   ],
   "source": [
    "data.head()"
   ]
  },
  {
   "cell_type": "code",
   "execution_count": 4,
   "metadata": {
    "id": "BJ9ppoofOVrU",
    "outputId": "276e0a75-367c-486c-b2ce-c73997987c81"
   },
   "outputs": [
    {
     "name": "stdout",
     "output_type": "stream",
     "text": [
      "<class 'pandas.core.frame.DataFrame'>\n",
      "RangeIndex: 118621 entries, 0 to 118620\n",
      "Data columns (total 10 columns):\n",
      " #   Column             Non-Null Count   Dtype  \n",
      "---  ------             --------------   -----  \n",
      " 0   transactionTime    118621 non-null  object \n",
      " 1   eventId            118621 non-null  object \n",
      " 2   accountNumber      118621 non-null  object \n",
      " 3   merchantId         118621 non-null  object \n",
      " 4   mcc                118621 non-null  int64  \n",
      " 5   merchantCountry    118621 non-null  int64  \n",
      " 6   merchantZip        95616 non-null   object \n",
      " 7   posEntryMode       118621 non-null  int64  \n",
      " 8   transactionAmount  118621 non-null  float64\n",
      " 9   availableCash      118621 non-null  int64  \n",
      "dtypes: float64(1), int64(4), object(5)\n",
      "memory usage: 9.1+ MB\n"
     ]
    }
   ],
   "source": [
    "data.info()"
   ]
  },
  {
   "cell_type": "markdown",
   "metadata": {
    "id": "ec7B-LOsOVrU"
   },
   "source": [
    "#### Comment 1\n",
    "there are ~120.000 transactions\n",
    "\n",
    "there are 10 features: 9 are categorical (objects and integers) and 1 continuous ('transactionAmount')\n",
    "\n",
    "Let's check more in detail the continuous one:\n",
    "\n",
    "---"
   ]
  },
  {
   "cell_type": "code",
   "execution_count": 5,
   "metadata": {
    "id": "uYYloAOGOVrV",
    "outputId": "c483227f-dc31-4908-a26c-3628ac355d64"
   },
   "outputs": [
    {
     "data": {
      "text/plain": [
       "count    118621.000000\n",
       "mean         53.674774\n",
       "std         183.665315\n",
       "min          -0.150000\n",
       "25%           8.030000\n",
       "50%          20.250000\n",
       "75%          49.000000\n",
       "max       13348.000000\n",
       "Name: transactionAmount, dtype: float64"
      ]
     },
     "execution_count": 5,
     "metadata": {},
     "output_type": "execute_result"
    }
   ],
   "source": [
    "data['transactionAmount'].describe()"
   ]
  },
  {
   "cell_type": "markdown",
   "metadata": {
    "id": "8Ll8NjnPOVrW"
   },
   "source": [
    "---\n",
    "\n",
    "### Check for null data"
   ]
  },
  {
   "cell_type": "code",
   "execution_count": 6,
   "metadata": {
    "id": "_UxzIqJoOVrX",
    "outputId": "ff71bc08-fd63-4c0d-dddd-25ab04ea31a2"
   },
   "outputs": [
    {
     "data": {
      "text/plain": [
       "transactionTime          0\n",
       "eventId                  0\n",
       "accountNumber            0\n",
       "merchantId               0\n",
       "mcc                      0\n",
       "merchantCountry          0\n",
       "merchantZip          23005\n",
       "posEntryMode             0\n",
       "transactionAmount        0\n",
       "availableCash            0\n",
       "dtype: int64"
      ]
     },
     "execution_count": 6,
     "metadata": {},
     "output_type": "execute_result"
    }
   ],
   "source": [
    "data.isnull().sum()"
   ]
  },
  {
   "cell_type": "markdown",
   "metadata": {
    "id": "9oKiNBSgOVrY"
   },
   "source": [
    "**Dealing with null values**: \n",
    "\n",
    "There are 23005 null values in the columns 'merchantZip' (i.e., zip code of merchants).\n",
    "\n",
    "I cannot extrapolates these values therefore I am going to encode them as a category (see below when I encode this feature with \"labelEncoder\"). \n",
    "\n",
    "---"
   ]
  },
  {
   "cell_type": "markdown",
   "metadata": {
    "id": "usOcc19COVrY"
   },
   "source": [
    "### Check for duplicated transactions"
   ]
  },
  {
   "cell_type": "code",
   "execution_count": 7,
   "metadata": {
    "id": "6f_MosXKOVrZ",
    "outputId": "b9376d0a-7795-45cf-fcb7-7638eed614c3"
   },
   "outputs": [
    {
     "data": {
      "text/plain": [
       "False"
      ]
     },
     "execution_count": 7,
     "metadata": {},
     "output_type": "execute_result"
    }
   ],
   "source": [
    "any(data.duplicated())"
   ]
  },
  {
   "cell_type": "markdown",
   "metadata": {
    "id": "SK1Q1FDUOVrZ"
   },
   "source": [
    "---\n",
    "\n",
    "### Check for Labels distribution"
   ]
  },
  {
   "cell_type": "code",
   "execution_count": 4,
   "metadata": {
    "id": "3zcDryKAOVrZ",
    "outputId": "7ed80939-bec2-489c-c96f-f5919f88a81f"
   },
   "outputs": [
    {
     "name": "stdout",
     "output_type": "stream",
     "text": [
      "overall there are only 875 frauds!! (0.74%)\n"
     ]
    },
    {
     "data": {
      "image/png": "[encoded data removed]",
      "text/plain": [
       "<Figure size 432x288 with 1 Axes>"
      ]
     },
     "metadata": {
      "needs_background": "light"
     },
     "output_type": "display_data"
    }
   ],
   "source": [
    "plt.hist(y, bins=3)\n",
    "plt.xticks([0,1])\n",
    "\n",
    "print(f'overall there are only {int(sum(y))} frauds!! ({ round(sum(y)*100/len(y),2)}%)')"
   ]
  },
  {
   "cell_type": "markdown",
   "metadata": {
    "id": "v-xR1Hx_OVra"
   },
   "source": [
    "#### Comment: \n",
    "As expected, labels are very unbalanced. \n",
    "\n",
    "There are many ways to deal with unbalanced data. \n",
    "For example, weighting more or generate more instances for the under-represented category. \n",
    "\n",
    "I have tried several of these approaches but they did not help here. I am not going to show these attepts to keep this notebook reasonably long. \n",
    "\n",
    "---"
   ]
  },
  {
   "cell_type": "markdown",
   "metadata": {},
   "source": [
    "\n",
    "#### NB: Accuracy is not a good metric for unbalanced data!!\n",
    "Since frauds are only the 1% of the total, by predicting always no-frauds we would have always a 99% accuracy.\n",
    "\n",
    "Therefore, I am going to use the f1 score and the Area under the ROC curve (AUC) instead. Furthermore, I am going to quatify the percent frauds detected from the 400 transactions more likely to be frauds each month\n",
    "\n",
    "---"
   ]
  },
  {
   "cell_type": "markdown",
   "metadata": {
    "id": "fKTAQl9JOVra"
   },
   "source": [
    "### Summary info about frauds"
   ]
  },
  {
   "cell_type": "markdown",
   "metadata": {
    "id": "7tk8kJdBOVrb"
   },
   "source": [
    "Here I check the distributions of: \n",
    "1. transactions/frauds across time, \n",
    "2. number of frauds per account and \n",
    "3. amount of money stolen per account "
   ]
  },
  {
   "cell_type": "code",
   "execution_count": 17,
   "metadata": {
    "id": "msKTTlHfOVrc",
    "outputId": "d28c9fb7-e3c8-49a6-9349-a9ea6f2187fb"
   },
   "outputs": [],
   "source": [
    "# prepare data for display\n",
    "df = data.copy()\n",
    "df['transactionTime'] = pd.to_datetime(data['transactionTime'])\n",
    "df['month']  = df.transactionTime.dt.month"
   ]
  },
  {
   "cell_type": "code",
   "execution_count": 18,
   "metadata": {},
   "outputs": [
    {
     "data": {
      "image/png": "[encoded data removed]",
      "text/plain": [
       "<Figure size 720x576 with 4 Axes>"
      ]
     },
     "metadata": {
      "needs_background": "light"
     },
     "output_type": "display_data"
    }
   ],
   "source": [
    "# time-course transactions per account with fraud events \n",
    "#-------------------------\n",
    "mpl.rc('axes', labelsize=12)\n",
    "col = ['k', 'r']\n",
    "\n",
    "\n",
    "fig, axs = plt.subplot_mosaic([['a)', 'c)'], \n",
    "                               ['b)', 'c)'], \n",
    "                               ['b)', 'd)'],\n",
    "                               ['b)', 'd)']],\n",
    "                               figsize=(10,8))\n",
    "\n",
    "\n",
    "\n",
    "\n",
    "#acc_with_frauds = df['accountNumber'].loc[y==1].unique()\n",
    "plt.axes(axs['b)'])\n",
    "acc_with_frauds = sorted(df['accountNumber'].loc[y==1].unique().tolist())\n",
    "for i in range(30):\n",
    "    acc = acc_with_frauds[i]\n",
    "    fraud = y[df['accountNumber']==acc]\n",
    "    xx = df['transactionTime'].loc[df['accountNumber']==acc]\n",
    "    \n",
    "    plt.scatter(xx, np.ones(len(xx))*i, marker='.', c=fraud, cmap='cool', alpha=0.3)\n",
    "   \n",
    "    plt.scatter(xx[fraud==1], np.ones(len(xx[fraud==1]))*i, c='r',cmap='cool')\n",
    "\n",
    "plt.xticks(rotation=45)\n",
    "plt.xlabel('Time')\n",
    "plt.ylabel('Accounts')\n",
    "plt.title('transactions per account')\n",
    "\n",
    "\n",
    "# Frauds per month\n",
    "#-------------------------\n",
    "plt.axes(axs['a)'])\n",
    "plt.hist(df['transactionTime'].loc[y==1], bins=12, color='r')\n",
    "plt.xticks([])\n",
    "plt.ylabel('Frauds number')\n",
    "plt.title('Frauds per month')\n",
    "\n",
    "\n",
    "# Number of frauds per account\n",
    "#-------------------------\n",
    "label_encoder = LabelEncoder()\n",
    "df = data.copy()\n",
    "df.accountNumber = label_encoder.fit_transform(df.accountNumber)\n",
    "df['transactionTime'] = pd.to_datetime(df['transactionTime'])\n",
    "\n",
    "num_fraud_per_account = []\n",
    "for acc in range(max(df['accountNumber'])):\n",
    "    num_fraud_per_account.append(sum(y[df['accountNumber']==acc]))\n",
    "num_fraud_per_account = np.array([num_fraud_per_account])\n",
    "\n",
    "\n",
    "tm = num_fraud_per_account[np.where(num_fraud_per_account>0)]\n",
    "\n",
    "plt.axes(axs['c)'])\n",
    "plt.hist(tm, bins=np.arange(0,60,3))\n",
    "plt.title('Num. of frauds per account')\n",
    "plt.ylabel('Accounts with fraud')\n",
    "\n",
    "\n",
    "# Fraud amount per account\n",
    "#-------------------------\n",
    "num_accounts_with_fraud = len(num_fraud_per_account[np.where(num_fraud_per_account>0)])\n",
    "df_fraud = df.loc[y==1] # take only fraud trans.\n",
    "fraud_amount_per_account = df_fraud.groupby('accountNumber')['transactionAmount'].sum()\n",
    "\n",
    "plt.axes(axs['d)'])\n",
    "plt.hist(fraud_amount_per_account)\n",
    "plt.title('Fraud amount per account (GBP)')\n",
    "plt.ylabel('Accounts with fraud')\n",
    "\n",
    "\n",
    "plt.subplots_adjust(left=0.1,\n",
    "                    bottom=0.1, \n",
    "                    right=0.9, \n",
    "                    top=0.9, \n",
    "                    wspace=0.4, \n",
    "                    hspace=0.8)\n",
    "\n",
    "for label, ax in axs.items():\n",
    "    ax.set_title(label, fontfamily='serif', loc='left', fontsize=16)\n",
    "\n",
    "# plt.figtext(0.4, -0.1, txt, wrap=True, horizontalalignment='center', fontsize=12)"
   ]
  },
  {
   "cell_type": "code",
   "execution_count": 19,
   "metadata": {
    "id": "9BpiIrf0OVrb",
    "outputId": "46216a8e-c249-4d1b-9f61-0cc7270fdbff"
   },
   "outputs": [
    {
     "data": {
      "text/plain": [
       "{'percent_fraud_per_transaction': 0.7376434189561712,\n",
       " 'total_num_accounts': 765,\n",
       " 'num_accounts_with_fraud': 167,\n",
       " 'percent_accounts_with_fraud': 21.830065359477125,\n",
       " 'percent_frauds_less_than_1000GBP': 83.23353293413174}"
      ]
     },
     "execution_count": 19,
     "metadata": {},
     "output_type": "execute_result"
    }
   ],
   "source": [
    "# Info about the dataset \n",
    "aa = fraud_amount_per_account.to_numpy()\n",
    "n_frauds_less_than_1000 = len(aa[np.where(fraud_amount_per_account<1000)])\n",
    "tot_frauds = len(aa)\n",
    "\n",
    "d ={\n",
    "    'percent_fraud_per_transaction':(target.shape[0]/data.shape[0])*100, \n",
    "    'total_num_accounts': max(df['accountNumber']),\n",
    "    'num_accounts_with_fraud': num_accounts_with_fraud,\n",
    "    'percent_accounts_with_fraud': (num_accounts_with_fraud/max(df['accountNumber']))*100,\n",
    "    'percent_frauds_less_than_1000GBP': (n_frauds_less_than_1000/tot_frauds)*100  \n",
    "}\n",
    "\n",
    "d"
   ]
  },
  {
   "cell_type": "markdown",
   "metadata": {
    "id": "NrF4L-4YOVrd"
   },
   "source": [
    "Comment: \n",
    "- The number of frauds per month is pretty stable across time\n",
    "- A bit more frauds happens over the summer time. \n",
    "- Most of the time, there are less than 5 frauds per account\n",
    "- Less than 1000 GBP are generally stolen from each account \n",
    "\n",
    "---"
   ]
  },
  {
   "cell_type": "markdown",
   "metadata": {
    "id": "CFw8M1QBOVrd"
   },
   "source": [
    "## Data Split\n",
    "Our model must take one month of transactions (~10.000 events) and return the 400 ones more likely to be frauds. Consider that for 10.000 transactions we have less than 100 frauds. \n",
    "\n",
    "We are going to use the last two months of transactions as test set and the two months before as validation set. \n",
    "As we saw in Fig1a, the number of frauds per month is reasonably similar. "
   ]
  },
  {
   "cell_type": "code",
   "execution_count": 15,
   "metadata": {
    "id": "na7cRzvaOVrd"
   },
   "outputs": [],
   "source": [
    "X_train_full = data.loc[:len(data)-20000-1]\n",
    "y_train_full = y[:len(data)-20000]\n",
    "\n",
    "# training set: first 8 months\n",
    "X_train = X_train_full.loc[:len(X_train_full)-20000-1]\n",
    "y_train = y_train_full[:len(X_train_full)-20000]\n",
    "\n",
    "# validation set 1 : 9th month\n",
    "X_val1 = X_train_full.loc[len(X_train_full)-20000:len(X_train_full)-10000-1]\n",
    "y_val1 = y_train_full[len(X_train_full)-20000:len(X_train_full)-10000]\n",
    "\n",
    "# validation set 1 : 10th month\n",
    "X_val2 = X_train_full.loc[len(X_train_full)-10000:]\n",
    "y_val2 = y_train_full[len(X_train_full)-10000:]\n",
    "\n",
    "# test set: last two months \n",
    "X_test = data.loc[len(data)-20000:]\n",
    "y_test = y[len(data)-20000:]"
   ]
  },
  {
   "cell_type": "markdown",
   "metadata": {
    "id": "YTtS65m4OVre"
   },
   "source": [
    "### Re-indexing of the new datasets "
   ]
  },
  {
   "cell_type": "code",
   "execution_count": 16,
   "metadata": {
    "id": "U6cda40yOVre"
   },
   "outputs": [],
   "source": [
    "# the new datasets we have just created still have the index of the \"data\" datafame. \n",
    "# We want each dataset to have an independent indexing\n",
    "# however, we want also to preserve the relative timing of each transaction. For this reason\n",
    "# the old idexes are saved in a new column \"temporal_order\"\n",
    "def reset_indexes(dataset):\n",
    "    save_order_info = False\n",
    "    if save_order_info:\n",
    "        return dataset.reset_index().rename(columns={\"index\": \"temporal_order\"})#.drop(columns='index')\n",
    "    else:\n",
    "        return dataset.reset_index().drop(columns='index')\n",
    "\n",
    "datasets = [X_train, X_val1, X_val2]\n",
    "X_train, X_val1, X_val2 = [reset_indexes(datasets[i]) for i in range(3)]"
   ]
  },
  {
   "cell_type": "code",
   "execution_count": 17,
   "metadata": {
    "id": "uPMST0I1OVre",
    "outputId": "eae85027-94ac-4fd2-cbf9-4eafda68d0fa"
   },
   "outputs": [
    {
     "data": {
      "text/html": [
       "<div>\n",
       "<style scoped>\n",
       "    .dataframe tbody tr th:only-of-type {\n",
       "        vertical-align: middle;\n",
       "    }\n",
       "\n",
       "    .dataframe tbody tr th {\n",
       "        vertical-align: top;\n",
       "    }\n",
       "\n",
       "    .dataframe thead th {\n",
       "        text-align: right;\n",
       "    }\n",
       "</style>\n",
       "<table border=\"1\" class=\"dataframe\">\n",
       "  <thead>\n",
       "    <tr style=\"text-align: right;\">\n",
       "      <th></th>\n",
       "      <th>transactionTime</th>\n",
       "      <th>eventId</th>\n",
       "      <th>accountNumber</th>\n",
       "      <th>merchantId</th>\n",
       "      <th>mcc</th>\n",
       "      <th>merchantCountry</th>\n",
       "      <th>merchantZip</th>\n",
       "      <th>posEntryMode</th>\n",
       "      <th>transactionAmount</th>\n",
       "      <th>availableCash</th>\n",
       "    </tr>\n",
       "  </thead>\n",
       "  <tbody>\n",
       "    <tr>\n",
       "      <th>0</th>\n",
       "      <td>2017-09-13T18:18:11Z</td>\n",
       "      <td>86026501A1</td>\n",
       "      <td>870830a9</td>\n",
       "      <td>b4793a</td>\n",
       "      <td>5812</td>\n",
       "      <td>826</td>\n",
       "      <td>TW6</td>\n",
       "      <td>5</td>\n",
       "      <td>7.80</td>\n",
       "      <td>8500</td>\n",
       "    </tr>\n",
       "    <tr>\n",
       "      <th>1</th>\n",
       "      <td>2017-09-13T18:04:13Z</td>\n",
       "      <td>86020213A1</td>\n",
       "      <td>870830a9</td>\n",
       "      <td>b4793a</td>\n",
       "      <td>5812</td>\n",
       "      <td>826</td>\n",
       "      <td>TW6</td>\n",
       "      <td>5</td>\n",
       "      <td>7.80</td>\n",
       "      <td>7500</td>\n",
       "    </tr>\n",
       "    <tr>\n",
       "      <th>2</th>\n",
       "      <td>2017-09-13T18:22:34Z</td>\n",
       "      <td>82724490A1</td>\n",
       "      <td>cfc0f3d1</td>\n",
       "      <td>2bc049</td>\n",
       "      <td>5968</td>\n",
       "      <td>826</td>\n",
       "      <td>W36RU</td>\n",
       "      <td>1</td>\n",
       "      <td>6.07</td>\n",
       "      <td>3500</td>\n",
       "    </tr>\n",
       "  </tbody>\n",
       "</table>\n",
       "</div>"
      ],
      "text/plain": [
       "        transactionTime     eventId accountNumber merchantId   mcc  \\\n",
       "0  2017-09-13T18:18:11Z  86026501A1      870830a9     b4793a  5812   \n",
       "1  2017-09-13T18:04:13Z  86020213A1      870830a9     b4793a  5812   \n",
       "2  2017-09-13T18:22:34Z  82724490A1      cfc0f3d1     2bc049  5968   \n",
       "\n",
       "   merchantCountry merchantZip  posEntryMode  transactionAmount  availableCash  \n",
       "0              826         TW6             5               7.80           8500  \n",
       "1              826         TW6             5               7.80           7500  \n",
       "2              826       W36RU             1               6.07           3500  "
      ]
     },
     "execution_count": 17,
     "metadata": {},
     "output_type": "execute_result"
    }
   ],
   "source": [
    "# notice the new index and the new column \"temporal_order\"\n",
    "X_val1.head(3)"
   ]
  },
  {
   "cell_type": "markdown",
   "metadata": {
    "id": "6NGcEJZAOVre"
   },
   "source": [
    "---\n",
    "\n",
    "## Feature engineering\n",
    "I am going to create new features and test if they improve the performance of a basic Random forest classifier on the validation data. \n",
    "\n",
    "If they are not improving, I drop them.\n",
    "\n",
    "Notice that Random forest classifiers are generally very powerful for anomaly detection and do not require normalization. "
   ]
  },
  {
   "cell_type": "markdown",
   "metadata": {
    "id": "IdIiMAguOVre"
   },
   "source": [
    "###  Categorical features encoding"
   ]
  },
  {
   "cell_type": "markdown",
   "metadata": {
    "id": "S7wnkso7OVrf"
   },
   "source": [
    "---\n",
    "\n",
    "#### Check number of labels in each catergorical variable"
   ]
  },
  {
   "cell_type": "code",
   "execution_count": 18,
   "metadata": {
    "id": "gerbIXVeOVrf",
    "outputId": "9747fb29-85c1-4e7f-8f81-2ea696b51281"
   },
   "outputs": [
    {
     "name": "stdout",
     "output_type": "stream",
     "text": [
      "accountNumber: 740\n",
      "merchantId: 25000\n",
      "merchantZip: 2943\n",
      "merchantCountry: 74\n",
      "posEntryMode: 10\n",
      "mcc: 339\n"
     ]
    }
   ],
   "source": [
    "# categorical var (we removed 'transactionTime' and 'eventId')\n",
    "col_list = ['accountNumber','merchantId', 'merchantZip', 'merchantCountry', 'posEntryMode','mcc']\n",
    "for i in col_list:\n",
    "    print(f'{i}: {len(X_train[i].unique())}')"
   ]
  },
  {
   "cell_type": "markdown",
   "metadata": {
    "id": "utkbCBuzOVrf"
   },
   "source": [
    "#### Comment: \n",
    "Since the catergories in each variable are nominal (there is not an order), they should be encoded independently (e.g. using a one hot encoder). \n",
    "\n",
    "However, since there are too many categories, we need to find new metrics. The only exception is posEntryMode that has only 10 categories.\n",
    "\n",
    "---"
   ]
  },
  {
   "cell_type": "markdown",
   "metadata": {
    "id": "4QH2DExROVrf"
   },
   "source": [
    "### Encode labels to number\n",
    "As discussed above, the labels in each category are nominal but are too many to be encoded with a one-hot-ecoder. \n",
    "\n",
    "Therefore, I will encode them as different numbers. The Null values will be encoded as a specific number as well."
   ]
  },
  {
   "cell_type": "code",
   "execution_count": 19,
   "metadata": {
    "id": "81eRZNq-OVrf"
   },
   "outputs": [],
   "source": [
    "class LabelEncoderExt(object):\n",
    "    \"\"\"\n",
    "    It differs from LabelEncoder by handling new classes (unseen during .fit() ) and providing a value for it [Unknown]\n",
    "    Unknown will be added in fit and transform will take care of new item. It gives unknown class id\n",
    "    \"\"\"\n",
    "   \n",
    "    def __init__(self):\n",
    "        \n",
    "        self.label_encoder = LabelEncoder()\n",
    "        # self.classes_ = self.label_encoder.classes_\n",
    "\n",
    "    def fit(self, data_list):\n",
    "        \"\"\"\n",
    "        This will fit the encoder for all the unique values and introduce unknown value\n",
    "        :param data_list: A list of string\n",
    "        :return: self\n",
    "        \"\"\"\n",
    "        self.label_encoder = self.label_encoder.fit(list(data_list) + ['Unknown'])\n",
    "        self.classes_ = self.label_encoder.classes_\n",
    "\n",
    "        return self\n",
    "\n",
    "    def transform(self, data_list):\n",
    "        \"\"\"\n",
    "        This will transform the data_list to id list where the new values get assigned to Unknown class\n",
    "        :param data_list:\n",
    "        :return:\n",
    "        \"\"\"\n",
    "        data_list = data_list.astype(str).to_list()\n",
    "        new_data_list = data_list\n",
    "        for unique_item in np.unique(data_list):\n",
    "            if unique_item not in self.label_encoder.classes_:\n",
    "                new_data_list = ['Unknown' if x==unique_item else x for x in new_data_list]\n",
    "\n",
    "        return self.label_encoder.transform(new_data_list)\n",
    "\n"
   ]
  },
  {
   "cell_type": "code",
   "execution_count": 20,
   "metadata": {},
   "outputs": [],
   "source": [
    "X_train_1 = X_train.copy()\n",
    "X_val1_1 = X_val1.copy()\n",
    "X_val2_1 = X_val2.copy()\n",
    "\n",
    "\n",
    "col_list = ['accountNumber','merchantId', 'merchantZip']\n",
    "le = LabelEncoderExt()\n",
    "for col in col_list:\n",
    "    le.fit(X_train[col])\n",
    "    X_train_1[col] = le.transform(X_train[col])\n",
    "    X_val1_1[col] = le.transform(X_val1[col])\n",
    "    X_val2_1[col] = le.transform(X_val2[col])"
   ]
  },
  {
   "cell_type": "markdown",
   "metadata": {
    "id": "rkX0Lu3ZOVrg"
   },
   "source": [
    "---\n",
    "\n",
    "### Encoding of time info\n",
    "the column \"transactionTime\" is divided in columns: hour, day, month"
   ]
  },
  {
   "cell_type": "code",
   "execution_count": 21,
   "metadata": {
    "id": "apccByETOVrg"
   },
   "outputs": [],
   "source": [
    "def add_time(dataset):\n",
    "    tm = dataset.copy()\n",
    "    tm['transactionTime'] = pd.to_datetime(tm['transactionTime'])\n",
    "    tm['month']  = tm.transactionTime.dt.month\n",
    "    tm['day']  = tm.transactionTime.dt.day\n",
    "    tm['hour']  = tm.transactionTime.dt.hour\n",
    "    tm.drop(columns=['transactionTime'], inplace=True)\n",
    "    return tm \n"
   ]
  },
  {
   "cell_type": "code",
   "execution_count": 22,
   "metadata": {},
   "outputs": [],
   "source": [
    "datasets = [X_train_1, X_val1_1, X_val2_1]\n",
    "X_train_1, X_val1_1, X_val2_1 = [add_time(datasets[i]) for i in range(3)]"
   ]
  },
  {
   "cell_type": "markdown",
   "metadata": {
    "id": "7vFDAqanOVrg"
   },
   "source": [
    "---\n",
    "\n",
    "### Correction for the skewness of the transaction amount distribution \n",
    "NB: This operation is not essential when using Tree-based alghoritms"
   ]
  },
  {
   "cell_type": "code",
   "execution_count": 23,
   "metadata": {
    "id": "rbCfLkz7OVrg"
   },
   "outputs": [
    {
     "name": "stderr",
     "output_type": "stream",
     "text": [
      "/Users/giacomobenvenuti/opt/miniconda3/envs/Fraud_detection/lib/python3.9/site-packages/pandas/core/indexing.py:1732: SettingWithCopyWarning: \n",
      "A value is trying to be set on a copy of a slice from a DataFrame\n",
      "\n",
      "See the caveats in the documentation: https://pandas.pydata.org/pandas-docs/stable/user_guide/indexing.html#returning-a-view-versus-a-copy\n",
      "  self._setitem_single_block(indexer, value, name)\n"
     ]
    }
   ],
   "source": [
    "def Conv_to_log(dataset):\n",
    "    dataset['transactionAmount'].loc[dataset['transactionAmount']<5] = 5 # this trick simplifies working with the log\n",
    "    dataset['transactionAmount'] = dataset['transactionAmount'].apply(np.log1p)\n",
    "    return dataset\n",
    "\n",
    "\n",
    "datasets = [X_train_1, X_val1_1, X_val2_1]\n",
    "col_list = ['merchantId', 'merchantZip','mcc','posEntryMode'] # 'posEntryMode',\n",
    "X_train_1, X_val1_1, X_val2_1= [Conv_to_log(datasets[i]) for i in range(3)]\n"
   ]
  },
  {
   "cell_type": "markdown",
   "metadata": {
    "id": "OwVycRPLOVrh"
   },
   "source": [
    "---\n",
    "\n",
    "### Drop EventId column"
   ]
  },
  {
   "cell_type": "code",
   "execution_count": 24,
   "metadata": {
    "id": "8p7zi-mnOVrh"
   },
   "outputs": [],
   "source": [
    "X_train_1.drop(columns=['eventId'],inplace=True)#'transactionTime',\n",
    "X_val1_1.drop(columns=['eventId'],inplace=True)\n",
    "X_val2_1.drop(columns=['eventId'],inplace=True)"
   ]
  },
  {
   "cell_type": "markdown",
   "metadata": {
    "id": "J3mbxwhFOVrh"
   },
   "source": [
    "---\n",
    "\n",
    "### Evaluation class\n",
    "I will use the class below to evaluate if the addition of a new feature improves fraud detection or not"
   ]
  },
  {
   "cell_type": "code",
   "execution_count": 25,
   "metadata": {
    "id": "O7Vl0WYjOVrh"
   },
   "outputs": [],
   "source": [
    "class Evaluation(object):\n",
    "    \"\"\"\n",
    "    Features evaluation\n",
    "    We want to test the effect of adding or removing features on a fix classifier\n",
    "\n",
    "    Example: \n",
    "    ev = Evaluation()\n",
    "    ev.fit(X_traint, y_train) # fit a Random forest classifier with the training set \n",
    "    ev.evaluate(X_val2_1, y_val2) # test on validation set\n",
    "\n",
    "    ev.feature_importance # display features importance\n",
    "    \"\"\"\n",
    "    def __init__(self):\n",
    "        \"\"\"\n",
    "        Create a vanilla Random foreset classifier \n",
    "        \"\"\"\n",
    "        self.clf = RandomForestClassifier(random_state=2000, n_estimators=500, n_jobs=-1, bootstrap=False)\n",
    "\n",
    "    def fit(self,X_traint, y_traint):\n",
    "        \"\"\"\n",
    "        obj.fit(self,X_traint, y_traint) # Fit the classifier \n",
    "        \"\"\"\n",
    "        print('Running fit...')\n",
    "        self.clf.fit(X_traint, y_traint) \n",
    "        print('Running fit... DONE!')\n",
    "    \n",
    "    def evaluate(self, X, y, title):\n",
    "        \"\"\"\n",
    "        Estimate confusion matrix, f1 score and percentage of detected anomalies* in a new dataset. \n",
    "        \"\"\"\n",
    "        self.X = X\n",
    "        self.y = y\n",
    "        # Confusion Matrix\n",
    "        self.conf_matrix =confusion_matrix(y, self.clf.predict(X))\n",
    "        \n",
    "        # f1 score\n",
    "        self.f1_score = f1_score(y,self.clf.predict(X))\n",
    "        \n",
    "        # Percent detected in sub-pool\n",
    "        prob = self.clf.predict_proba(X)\n",
    "        self.percent_detected = self.Res(prob[:,1], y)\n",
    "        self.instance_num = sum(y)\n",
    "        self.title = title\n",
    "        self.display(title)\n",
    "        return self.f1_score\n",
    "\n",
    "    def display(self,title):\n",
    "        '''\n",
    "        Display Model performance\n",
    "        '''\n",
    "        \n",
    "        print('--- ' + title + ' ---')\n",
    "        print('confusion matrix')\n",
    "        print(self.conf_matrix)\n",
    "        print(f'f1 score = {self.f1_score}')\n",
    "        print(f'by checking 400 trans. per month we can find {round(self.percent_detected)}% of the frauds (tot {self.instance_num}) ')\n",
    "        print('')\n",
    "\n",
    "    def Res(self, fraud_prob, y_test):\n",
    "        '''\n",
    "        calculate percentage of frauds in the 400 more likely transactions\n",
    "        '''\n",
    "        # get the index of the 400 instances with higer probability  \n",
    "        ps = fraud_prob.argsort() \n",
    "        index_selected_trans = ps[-400:]\n",
    "        y_sel = y_test[index_selected_trans]\n",
    "        percent_frauds_detected = sum(y_sel)/sum(y_test)*100\n",
    "\n",
    "        self.proba = fraud_prob\n",
    "        self.index_selected_trans = index_selected_trans\n",
    "        return percent_frauds_detected\n",
    "\n",
    "    def Saved_Money(self):\n",
    "        ii = self.index_selected_trans \n",
    "        yy = self.y[ii]\n",
    "        xx = self.X['transactionAmount'].loc[ii]\n",
    "        self.transAmount_selection = sum(xx.loc[yy==1])\n",
    "        self.transAmount_total = sum(self.X['transactionAmount'].loc[self.y==1])\n",
    "        return self.transAmount_selection\n",
    "\n",
    "\n",
    "    def feature_importance(self):\n",
    "        '''\n",
    "        Display features importance\n",
    "        '''\n",
    "        feat_imp = pd.DataFrame()\n",
    "        feat_imp['feature'] = self.clf.feature_names_in_\n",
    "        feat_imp['importance'] = self.clf.feature_importances_\n",
    "        feat_imp = feat_imp.sort_values(by='importance', ascending=False).reset_index()\n",
    "        feat_imp.drop(columns='index')\n",
    "        self.feat_imp = feat_imp\n",
    "        print('')\n",
    "        print('-- Features Importance for classifier --')\n",
    "        print(feat_imp.loc[:5])\n",
    "    \n",
    "    \n",
    "    def Mutual_Info(self, X, y):\n",
    "        high_score_features = []\n",
    "        feature_scores = mutual_info_classif(X, y, random_state=0)\n",
    "        threshold = 5  # the number of most relevant features\n",
    "        for score, f_name in sorted(zip(feature_scores, X.columns), reverse=True)[:threshold]:\n",
    "                print(f_name, score)\n",
    "                high_score_features.append(f_name)\n",
    "\n"
   ]
  },
  {
   "cell_type": "markdown",
   "metadata": {
    "id": "PM-xmj6ZOVri"
   },
   "source": [
    "### Test fraud detection performance on the current set of features"
   ]
  },
  {
   "cell_type": "code",
   "execution_count": 26,
   "metadata": {
    "id": "LKrw9t4pOVri",
    "outputId": "a5918d48-23de-4c03-ca10-6881a54301f6"
   },
   "outputs": [
    {
     "name": "stdout",
     "output_type": "stream",
     "text": [
      "Running fit...\n",
      "Running fit... DONE!\n",
      "--- Training set ---\n",
      "confusion matrix\n",
      "[[78053     0]\n",
      " [    0   568]]\n",
      "f1 score = 1.0\n",
      "by checking 400 trans. per month we can find 70% of the frauds (tot 568.0) \n",
      "\n",
      "--- Validation set #1 ---\n",
      "confusion matrix\n",
      "[[9897    1]\n",
      " [  83   19]]\n",
      "f1 score = 0.3114754098360656\n",
      "by checking 400 trans. per month we can find 38% of the frauds (tot 102.0) \n",
      "\n",
      "--- Validation set #2 ---\n",
      "confusion matrix\n",
      "[[9889    2]\n",
      " [ 106    3]]\n",
      "f1 score = 0.05263157894736843\n",
      "by checking 400 trans. per month we can find 66% of the frauds (tot 109.0) \n",
      "\n"
     ]
    }
   ],
   "source": [
    "X_traint = X_train_1.copy() # training set\n",
    "X_val1t = X_val1_1.copy() # first validation set \n",
    "X_val2t = X_val2_1.copy() # second validation set \n",
    "\n",
    "ev_1 = Evaluation()\n",
    "ev_1.fit(X_traint, y_train)\n",
    "datasets = [X_traint, X_val1t, X_val2t]\n",
    "y_datasets = [y_train, y_val1, y_val2]\n",
    "title=['Training set', 'Validation set #1', 'Validation set #2']\n",
    "det_train, det_val1, det_val2 = [ev_1.evaluate(datasets[i],y_datasets[i], title[i]) for i in range(3)]\n"
   ]
  },
  {
   "cell_type": "markdown",
   "metadata": {
    "id": "TwrF7AnUOVri"
   },
   "source": [
    "#### Comment: \n",
    "Using the current dataset with the vanilla classifier, we would detect 38% of frauds in the first validation set and 66% in the second (i.e. using the model to select 400 transactions out of 10.000).\n",
    "This is already not bad given the difficulty of the task. \n",
    "\n",
    "Let's check now the contribution of each feature to the performance of the model "
   ]
  },
  {
   "cell_type": "markdown",
   "metadata": {},
   "source": [
    "### Fratures importance"
   ]
  },
  {
   "cell_type": "code",
   "execution_count": 27,
   "metadata": {
    "id": "k9evc6yiOVri"
   },
   "outputs": [
    {
     "name": "stdout",
     "output_type": "stream",
     "text": [
      "\n",
      "-- Features Importance for classifier --\n",
      "   index            feature  importance\n",
      "0      0      accountNumber    0.182936\n",
      "1      9                day    0.121434\n",
      "2      6  transactionAmount    0.108158\n",
      "3      1         merchantId    0.104942\n",
      "4      7      availableCash    0.091595\n",
      "5      8              month    0.089384\n"
     ]
    }
   ],
   "source": [
    "ev_1.feature_importance()"
   ]
  },
  {
   "cell_type": "markdown",
   "metadata": {
    "id": "C8Yn0BGSOVri"
   },
   "source": [
    "#### Comment: \n",
    "- The account number and transaction amount are the most informative features for fraud detection according to this model.\n",
    "\n",
    "We can compare this ranking to the one obtained calculating the mutual information between each feature and the target:\n",
    "\n"
   ]
  },
  {
   "cell_type": "code",
   "execution_count": 28,
   "metadata": {},
   "outputs": [
    {
     "name": "stdout",
     "output_type": "stream",
     "text": [
      "accountNumber 0.020068207573133212\n",
      "merchantCountry 0.016450482707357716\n",
      "posEntryMode 0.011529917617863261\n",
      "merchantId 0.01016627448053753\n",
      "mcc 0.008179632827054806\n"
     ]
    }
   ],
   "source": [
    "# plot the 5 features with stronger MI with respect to the target\n",
    "ev_1.Mutual_Info(X_traint, y_train)"
   ]
  },
  {
   "cell_type": "markdown",
   "metadata": {},
   "source": [
    "#### Comment \n",
    "- MI is not very informative since it is pretty low for all features. \n",
    "- The accountNumber is confirmed to be the most relevant feature and also the merchantId is in the top 5 of the two ranking methods."
   ]
  },
  {
   "cell_type": "markdown",
   "metadata": {
    "id": "PO7wd5HUOVri"
   },
   "source": [
    "### Encode posEntryMode with dummies "
   ]
  },
  {
   "cell_type": "code",
   "execution_count": null,
   "metadata": {
    "id": "4UaKd7zYOVrj"
   },
   "outputs": [],
   "source": [
    "from sklearn.preprocessing import OneHotEncoder\n",
    "\n",
    "class one_hot(object):\n",
    "    \"\"\"\n",
    "    Ignore new labels in validation set\n",
    "    \"\"\"\n",
    "    def __init__(self):\n",
    "        self.ohe = OneHotEncoder(handle_unknown='ignore')\n",
    "\n",
    "    def fit(self, X_train, col):\n",
    "        self.target_column = col\n",
    "        cat = X_train[[col]]\n",
    "        self.ohe.fit(cat)\n",
    "    \n",
    "    def transform(self, X_test):\n",
    "        cat = X_test[[col]]\n",
    "        cat2 = self.ohe.transform(cat).toarray()\n",
    "\n",
    "        new_col_names = []\n",
    "        [new_col_names.append(self.target_column + '_' + str(c)) for c in list(self.ohe.categories_[0])]\n",
    "        \n",
    "        \n",
    "        X_test = pd.concat([X_test, pd.DataFrame(cat2, columns=new_col_names)], axis='columns') # , columns= new_col_names\n",
    "        return X_test\n",
    "\n",
    "\n",
    "oo = one_hot()\n",
    "oo.fit(X_train_1,'posEntryMode') # 'posEntryMode'\n",
    "X_train_2 = oo.transform( X_train_1.copy())\n",
    "X_val1_2 = oo.transform(X_val1_1.copy())\n",
    "X_val2_2 = oo.transform(X_val2_1.copy())"
   ]
  },
  {
   "cell_type": "code",
   "execution_count": null,
   "metadata": {
    "id": "CK8afGrWOVrj",
    "outputId": "50119fc5-49e7-46d0-d3b1-a5ba2704cabc"
   },
   "outputs": [],
   "source": [
    "##############\n",
    "# EVALUATION\n",
    "##############\n",
    "\n",
    "X_traint = X_train_2.copy()\n",
    "X_val1t = X_val1_2.copy()\n",
    "X_val2t = X_val2_2.copy()\n",
    "\n",
    "ev_2 = Evaluation()\n",
    "ev_2.fit(X_traint, y_train)\n",
    "datasets = [X_traint, X_val1t, X_val2t]\n",
    "y_datasets = [y_train, y_val1, y_val2]\n",
    "title=['Training set', 'Validation set #1', 'Validation set #2']\n",
    "det_train, det_val1, det_val2 = [ev_2.evaluate(datasets[i], y_datasets[i], title[i]) for i in range(3)]\n",
    "ev_2.feature_importance()\n"
   ]
  },
  {
   "cell_type": "markdown",
   "metadata": {
    "id": "-LvbusOfOVrj"
   },
   "source": [
    "#### Comment: \n",
    "This operation adds several new columns w/o adding much information, therefore we are not including it in our pipeline \n",
    "\n",
    "---"
   ]
  },
  {
   "cell_type": "markdown",
   "metadata": {
    "id": "ATW8iEz6OVrj"
   },
   "source": [
    "### Add fraud probability for each category\n",
    "For every categorical feature, I am going to estimate the probability that each value is associated to a fraud (from the training set). Then, I am going to create a new column for each category, reporting this probability for each instance. \n",
    "\n",
    "e.g. If the 10% of instances with accountNumber=1 in the trainig set are frauds, I am going to add a new column \"accountNumber_fraud_prob\" reporting the probability of 0.1 every time the accountNumber is equal to 1 "
   ]
  },
  {
   "cell_type": "code",
   "execution_count": null,
   "metadata": {
    "id": "QeYdc7p9OVrj"
   },
   "outputs": [],
   "source": [
    "class Add_fraud_probability(object):\n",
    "    def __init__(self,col_list):\n",
    "        \"\"\"\n",
    "        fp = Add_fraud_probability(col_list)\n",
    "        \"col_list\" is a list with the names of the columns/features where we want to perform the operation\n",
    "        \"\"\"\n",
    "        self.col_list = col_list\n",
    "        \n",
    "\n",
    "    def fit(self, X_train, y_train):\n",
    "        \"\"\"\n",
    "        \"\"\"\n",
    "        self.fp = dict()\n",
    "        for col in self.col_list:\n",
    "            # get the number of frauds for category in the training set that present some\n",
    "            frauds_per_cat = X_train[col].loc[np.where(y_train==1)].value_counts().to_dict() \n",
    "\n",
    "            fraud_prob_per_cat = dict()\n",
    "            # get probability \n",
    "            for k, v in frauds_per_cat.items():\n",
    "                n_tot = sum(X_train[col]==k)\n",
    "                fraud_prob_per_cat.update({k: v/n_tot})\n",
    "            self.fp.update({col:fraud_prob_per_cat})\n",
    "        return self\n",
    "\n",
    "    def transform(self, dataset):\n",
    "        \"\"\"\n",
    "        \"\"\"\n",
    "        ds = dataset.copy()\n",
    "        for col in self.col_list:\n",
    "            fraud_prob_per_cat = self.fp[col]\n",
    "        \n",
    "            ds[col + '_fraud_prob'] = 0 # init the new column/feature \n",
    "            # estimate the probability for each category and add as a new feature\n",
    "            for k,v in fraud_prob_per_cat.items():\n",
    "                ds[col + '_fraud_prob'].loc[ds[col]==k] = v\n",
    "        return ds"
   ]
  },
  {
   "cell_type": "code",
   "execution_count": null,
   "metadata": {
    "id": "iG2UKQpTOVrk",
    "outputId": "4baac920-9ee5-4270-e36e-8698a1c0fab7"
   },
   "outputs": [],
   "source": [
    "datasets = [X_train_1, X_val1_1, X_val2_1]\n",
    "col_list = ['merchantId', 'merchantZip','mcc'] # 'posEntryMode',\n",
    "\n",
    "afp = Add_fraud_probability(col_list)\n",
    "afp.fit(X_train_1, y_train)\n",
    "\n",
    "X_train_2, X_val1_2, X_val2_2 = [afp.transform(datasets[i]) for i in range(3)]\n"
   ]
  },
  {
   "cell_type": "code",
   "execution_count": null,
   "metadata": {
    "id": "N8Senq6mOVrk",
    "outputId": "135086db-eb10-4e98-8953-5cb5d5be6332"
   },
   "outputs": [],
   "source": [
    "X_val1_2.head()"
   ]
  },
  {
   "cell_type": "markdown",
   "metadata": {
    "id": "i32N8rEOOVrk"
   },
   "source": [
    "Commnet: you can see that new columns have been added to the dataset \n",
    "\n",
    "Let's check if these new features improve the performance of the model on the validation sets "
   ]
  },
  {
   "cell_type": "code",
   "execution_count": null,
   "metadata": {
    "id": "Det1UqteOVrk",
    "outputId": "f90382d7-d5b2-448c-86f5-caee1c57a58f"
   },
   "outputs": [],
   "source": [
    "##############\n",
    "# EVALUATION\n",
    "##############\n",
    "\n",
    "X_traint = X_train_2.copy()\n",
    "X_val1t = X_val1_2.copy()\n",
    "X_val2t = X_val2_2.copy()\n",
    "\n",
    "ev_3 = Evaluation()\n",
    "ev_3.fit(X_traint, y_train)\n",
    "datasets = [X_traint, X_val1t, X_val2t]\n",
    "y_datasets = [y_train, y_val1, y_val2]\n",
    "title=['Training set', 'Validation set #1', 'Validation set #2']\n",
    "det_train, det_val1, det_val2 = [ev_3.evaluate(datasets[i], y_datasets[i], title[i]) for i in range(3)]\n",
    "ev_3.feature_importance()"
   ]
  },
  {
   "cell_type": "markdown",
   "metadata": {
    "id": "i0hooM__OVrl"
   },
   "source": [
    "#### Comment: \n",
    "These new features do not improve the performance of the model therefore we are going to drop them.\n",
    "\n",
    "---"
   ]
  },
  {
   "cell_type": "markdown",
   "metadata": {
    "id": "eQClNgJ2OVrl"
   },
   "source": [
    "### Add category probability for each account\n",
    "For every categorical feature, we estimate the probability that each value is associated with a certain account (e.g. account =1 buys from merchant=1). Then, we create a new column for each categoriacal feature, reporting this probability for each instance (every time we have account =1 & merchant=1 we add the etimated probability).  "
   ]
  },
  {
   "cell_type": "code",
   "execution_count": null,
   "metadata": {
    "id": "YerJgpC_OVrl",
    "outputId": "8f9b41ff-9bb7-42f8-cfaa-2c3a0cf4471a"
   },
   "outputs": [],
   "source": [
    "import pickle\n",
    "import os\n",
    "\n",
    "class  Add_cat_prob_per_account(object):\n",
    "    def __init__(self):\n",
    "        if not os.path.isdir('./temp'):\n",
    "            os.makedirs('./temp')\n",
    "\n",
    "    def fit(self, X_train, col_list):\n",
    "        self.col_list = col_list\n",
    "        for col in col_list:\n",
    "            # for every account find the prob of each categorical value\n",
    "            for iAcc in X_train['accountNumber'].unique():\n",
    "                \n",
    "                if sum(X_train['accountNumber']==iAcc) == 0:\n",
    "                    # if there are not transactions for this account stop here\n",
    "                    continue\n",
    "                # prob calculation made only on the training set\n",
    "                tot_transactions_account = len(X_train[col].loc[X_train['accountNumber']==iAcc])\n",
    "                caunt_per_cat = X_train[col].loc[X_train['accountNumber']==iAcc].value_counts()\n",
    "                cat_prob = caunt_per_cat / tot_transactions_account\n",
    "\n",
    "                cat_prob_per_account = {iAcc: cat_prob.to_dict()}\n",
    "\n",
    "                fname = str(f'./temp/{col}_{iAcc}.pkl')\n",
    "                with open(fname, 'wb') as f:\n",
    "                    pickle.dump(cat_prob_per_account, f)\n",
    "               \n",
    "            \n",
    "      \n",
    "    def transform(self, ds1):\n",
    "        ds = ds1.copy()\n",
    "        for col in self.col_list:\n",
    "            ds[col + '_prob'] = 0 # init the new column/feature \n",
    "            # for every account find the prob of each categorical value\n",
    "            for iAcc in ds['accountNumber'].unique():\n",
    "                fname = str(f'./temp/{col}_{iAcc}.pkl')\n",
    "\n",
    "                if not os.path.isfile(fname):\n",
    "                    continue\n",
    "                \n",
    "                with open(fname, 'rb') as f:\n",
    "                    cat_prob_per_account = pickle.load(f)\n",
    "       \n",
    "               \n",
    "                # estimate the probability for each category and add as a new feature\n",
    "                cat_prob = cat_prob_per_account[iAcc]#cat_prob_[col]\n",
    "                keys= list(cat_prob.keys())\n",
    "                prob= list(cat_prob.values())\n",
    "                for i in range(len(keys)): # values categorical var\n",
    "                    cat = keys[i]\n",
    "                    ds[col + '_prob'].loc[ (ds[col]==cat) & (ds['accountNumber']==iAcc)] = prob[i]\n",
    "        return ds\n",
    "\n",
    "col_list = ['merchantId','merchantZip','mcc','posEntryMode'] \n",
    "ap = Add_cat_prob_per_account()\n",
    "ap.fit(X_train_2, col_list)\n",
    "\n",
    "datasets = [X_train_1, X_val1_1, X_val2_1]\n",
    "# ,'posEntryMode',\n",
    "X_train_3, X_val1_3, X_val2_3 = [ap.transform(datasets[i]) for i in range(3)]"
   ]
  },
  {
   "cell_type": "code",
   "execution_count": null,
   "metadata": {
    "id": "iVB2x0RwOVrl",
    "outputId": "12c87d9c-f665-4f11-b052-78940fdff872"
   },
   "outputs": [],
   "source": [
    "X_val1_3.head()"
   ]
  },
  {
   "cell_type": "code",
   "execution_count": null,
   "metadata": {
    "id": "b5yBJZD9OVrl",
    "outputId": "af4a7037-1ed1-411d-f5ee-1adcb272af9d"
   },
   "outputs": [],
   "source": [
    "##############\n",
    "# EVALUATION\n",
    "##############\n",
    "\n",
    "X_traint = X_train_3.copy()\n",
    "X_val1t = X_val1_3.copy()\n",
    "X_val2t = X_val2_3.copy()\n",
    "\n",
    "ev_4 = Evaluation()\n",
    "ev_4.fit(X_traint, y_train)\n",
    "datasets = [X_traint, X_val1t, X_val2t]\n",
    "y_datasets = [y_train, y_val1, y_val2]\n",
    "title=['Training set', 'Validation set #1', 'Validation set #2']\n",
    "det_train, det_val1, det_val2 = [ev_4.evaluate(datasets[i], y_datasets[i], title[i]) for i in range(3)]\n",
    "ev_4.feature_importance()"
   ]
  },
  {
   "cell_type": "markdown",
   "metadata": {
    "id": "k_7x5_B8OVrm"
   },
   "source": [
    "#### Comment: \n",
    "these new features do not improve the performance of the model and are dropped. \n",
    "\n",
    "---"
   ]
  },
  {
   "cell_type": "markdown",
   "metadata": {
    "id": "5YGbGTh9OVrm"
   },
   "source": [
    "### Create new features with unsuprevised learning: Isolation forest\n",
    "Isolation forest is one of the most effective unsupervised algorithms for anomaly detection.\n",
    "\n",
    "We use it to generate new features to use with our supervised learning approach."
   ]
  },
  {
   "cell_type": "code",
   "execution_count": null,
   "metadata": {
    "id": "hEPgwg5nOVrm",
    "outputId": "60b76928-0199-435e-f15d-207cde6ec1cd"
   },
   "outputs": [],
   "source": [
    "from sklearn.ensemble import IsolationForest\n",
    "X_train_4= X_train_2.copy()\n",
    "X_val1_4= X_val1_2.copy()\n",
    "X_val2_4= X_val2_2.copy()\n",
    "X_test_4= X_test_2.copy()\n",
    "model=IsolationForest(n_estimators=50, max_samples='auto', contamination=float(0.1),max_features=1.0)\n",
    "model.fit(X_train_2)\n",
    "X_train_4['scores']=model.decision_function(X_train_2)\n",
    "X_train_4['anomaly']=model.predict(X_train_2)\n",
    "\n",
    "X_val1_4['scores']=model.decision_function(X_val1_2)\n",
    "X_val1_4['anomaly']=model.predict(X_val1_2)\n",
    "\n",
    "X_val2_4['scores']=model.decision_function(X_val2_2)\n",
    "X_val2_4['anomaly']=model.predict(X_val2_2)\n",
    "\n",
    "X_test_4['scores']=model.decision_function(X_test_2)\n",
    "X_test_4['anomaly']=model.predict(X_test_2)\n"
   ]
  },
  {
   "cell_type": "code",
   "execution_count": null,
   "metadata": {
    "id": "juwshFgfOVrm"
   },
   "outputs": [],
   "source": [
    "##############\n",
    "# EVALUATION\n",
    "##############\n",
    "\n",
    "X_traint = X_train_4.copy()\n",
    "X_val1t = X_val1_4.copy()\n",
    "X_val2t = X_val2_4.copy()\n",
    "X_testt = X_test_4.copy()\n"
   ]
  },
  {
   "cell_type": "code",
   "execution_count": null,
   "metadata": {
    "id": "2ch_mwS6OVrm",
    "outputId": "68ea3929-0dcb-4667-a81b-8bc81bc03868"
   },
   "outputs": [],
   "source": [
    "\n",
    "ev_4 = Evaluation()\n",
    "ev_4.fit(X_traint, y_train)\n",
    "datasets = [X_traint, X_val1t, X_val2t]\n",
    "y_datasets = [y_train, y_val1, y_val2]\n",
    "title=['Training set', 'Validation set #1', 'Validation set #2']\n",
    "det_train, det_val1, det_val2 = [ev_4.evaluate(datasets[i], y_datasets[i], title[i]) for i in range(3)]\n",
    "ev_4.feature_importance()"
   ]
  },
  {
   "cell_type": "markdown",
   "metadata": {
    "id": "WQK-H6AuOVrn"
   },
   "source": [
    "Comment: Also these new features only make the performance worse for the second validation set and therefore are dropped.\n",
    "\n",
    "Surprisingly, it turns out that the dataset with less new features (X_train_2) produces the best performance.  \n",
    "\n",
    "---"
   ]
  },
  {
   "cell_type": "markdown",
   "metadata": {
    "id": "z8BolA51OVrn"
   },
   "source": [
    "## Test different classifiers\n",
    "After selecting the best features we are going to select the best classifier. \n",
    "\n",
    "We are going to compare the performance of 5 different classifiers. \n",
    "\n",
    "Performances are estimated using f1 score and area under the ROC curve. \n"
   ]
  },
  {
   "cell_type": "markdown",
   "metadata": {
    "id": "oCsRafSMOVrn"
   },
   "source": [
    "### Standardize all features\n",
    "\n",
    "The random forest classifier does not require normalization. However, this is important for the other classifiers we are going to test."
   ]
  },
  {
   "cell_type": "code",
   "execution_count": 29,
   "metadata": {
    "id": "P3GCGG7aOVrn"
   },
   "outputs": [],
   "source": [
    "X_traint = X_train_1.copy()\n",
    "X_val1t = X_val1_1.copy()\n",
    "X_val2t = X_val2_1.copy()\n",
    "\n",
    "ss = StandardScaler()\n",
    "\n",
    "X_train_ss = pd.DataFrame(ss.fit_transform(X_traint), columns=X_traint.columns)\n",
    "X_val1_ss  = pd.DataFrame(ss.transform(X_val1t), columns=X_val1t.columns)\n",
    "X_val2_ss  = pd.DataFrame(ss.transform(X_val2t), columns=X_val2t.columns)\n"
   ]
  },
  {
   "cell_type": "code",
   "execution_count": 30,
   "metadata": {
    "id": "AtsqJKCwOVro"
   },
   "outputs": [],
   "source": [
    "# test 5 different models \n",
    "classifiers_labels = [\n",
    "    'KNeighborsClassifier',\n",
    "    'LogisticRegression',\n",
    "    #OneClassSVM(gamma='scale', nu=0.01),\n",
    "    'RandomForestClassifier',\n",
    "    'AdaBoostClassifier',\n",
    "    'GradientBoostingClassifier'\n",
    "    ]\n",
    "# evaluation is based on f1_score enven if also area under the ROC curve is shown\n",
    "from sklearn.neighbors import KNeighborsClassifier\n",
    "from sklearn.svm import SVC\n",
    "classifiers = [\n",
    "    KNeighborsClassifier(algorithm=\"kd_tree\"),\n",
    "    LogisticRegression( class_weight='balanced'),\n",
    "    # OneClassSVM()\n",
    "    RandomForestClassifier(),\n",
    "    AdaBoostClassifier(),\n",
    "    GradientBoostingClassifier()\n",
    "    ]\n",
    "\n",
    "f1, auc1, auc2, tt = [], [],[], []\n",
    "for classifier in classifiers:\n",
    "    #print(classifier)\n",
    "    steps = [\n",
    "         ('clf', classifier)\n",
    "    ]\n",
    "    pipeline = Pipeline(steps)\n",
    "    pipeline.fit(X_train_ss, y_train) \n",
    "\n",
    "    # test on the two validation sets   \n",
    "    X = [X_val1_ss,X_val2_ss]\n",
    "    Y = [y_val1,y_val2]\n",
    "    \n",
    "    # estimate f1 score\n",
    "    #------------------\n",
    "    ff =0\n",
    "    for i in range(2):\n",
    "        ff+=f1_score(Y[i], pipeline.predict(X[i]))\n",
    "\n",
    "    f1.append(ff/2)\n",
    "    # print(f'f1 = {ff/2}')\n",
    "    \n",
    "    # estimate area under the ROC curve\n",
    "    #------------------\n",
    "    #y_val_decisions = pipeline.decision_function(X_val) # you can also use the dicision values \n",
    "    y_val_pred_prob = pipeline.predict_proba(X_val1_ss)\n",
    "    y_val_prob = y_val_pred_prob[:,1]\n",
    "    \n",
    "    auc1.append(roc_auc_score(y_val1, y_val_prob))\n",
    "    # print(roc_auc_score(y_val1, y_val_prob))"
   ]
  },
  {
   "cell_type": "markdown",
   "metadata": {
    "id": "1lg9OyugOVro"
   },
   "source": [
    "### Compare classifiers' performances  "
   ]
  },
  {
   "cell_type": "code",
   "execution_count": 31,
   "metadata": {
    "id": "qTIrfiAfOVro",
    "outputId": "be0bd034-abc9-4e84-b27e-1d553c9a23dd"
   },
   "outputs": [
    {
     "data": {
      "text/html": [
       "<div>\n",
       "<style scoped>\n",
       "    .dataframe tbody tr th:only-of-type {\n",
       "        vertical-align: middle;\n",
       "    }\n",
       "\n",
       "    .dataframe tbody tr th {\n",
       "        vertical-align: top;\n",
       "    }\n",
       "\n",
       "    .dataframe thead th {\n",
       "        text-align: right;\n",
       "    }\n",
       "</style>\n",
       "<table border=\"1\" class=\"dataframe\">\n",
       "  <thead>\n",
       "    <tr style=\"text-align: right;\">\n",
       "      <th></th>\n",
       "      <th>Classifier</th>\n",
       "      <th>f1_score</th>\n",
       "      <th>AUC</th>\n",
       "    </tr>\n",
       "  </thead>\n",
       "  <tbody>\n",
       "    <tr>\n",
       "      <th>2</th>\n",
       "      <td>Random Forest</td>\n",
       "      <td>0.183341</td>\n",
       "      <td>0.745341</td>\n",
       "    </tr>\n",
       "    <tr>\n",
       "      <th>4</th>\n",
       "      <td>Gradient-Boosting</td>\n",
       "      <td>0.060903</td>\n",
       "      <td>0.821979</td>\n",
       "    </tr>\n",
       "    <tr>\n",
       "      <th>3</th>\n",
       "      <td>AdaBoost</td>\n",
       "      <td>0.056452</td>\n",
       "      <td>0.866108</td>\n",
       "    </tr>\n",
       "    <tr>\n",
       "      <th>1</th>\n",
       "      <td>Logistic Regression</td>\n",
       "      <td>0.048471</td>\n",
       "      <td>0.819755</td>\n",
       "    </tr>\n",
       "    <tr>\n",
       "      <th>0</th>\n",
       "      <td>K Neighbors</td>\n",
       "      <td>0.046298</td>\n",
       "      <td>0.617108</td>\n",
       "    </tr>\n",
       "  </tbody>\n",
       "</table>\n",
       "</div>"
      ],
      "text/plain": [
       "            Classifier  f1_score       AUC\n",
       "2        Random Forest  0.183341  0.745341\n",
       "4    Gradient-Boosting  0.060903  0.821979\n",
       "3             AdaBoost  0.056452  0.866108\n",
       "1  Logistic Regression  0.048471  0.819755\n",
       "0          K Neighbors  0.046298  0.617108"
      ]
     },
     "execution_count": 31,
     "metadata": {},
     "output_type": "execute_result"
    }
   ],
   "source": [
    "classifiers_labels = [\n",
    "    'K Neighbors',\n",
    "    'Logistic Regression',\n",
    "    #OneClassSVM(gamma='scale', nu=0.01),\n",
    "    'Random Forest',\n",
    "    'AdaBoost',\n",
    "    'Gradient-Boosting'\n",
    "    ]\n",
    "Summ = pd.DataFrame({'Classifier':classifiers_labels,'f1_score':f1,'AUC':auc1})\n",
    "Summ.sort_values(by='f1_score', inplace=True, ascending=False)\n",
    "Summ \n"
   ]
  },
  {
   "cell_type": "markdown",
   "metadata": {
    "id": "JJyHnwtzOVro"
   },
   "source": [
    "#### Comment: \n",
    "the Random Forest classifier is the one producing the best performance\n",
    "\n",
    "---"
   ]
  },
  {
   "cell_type": "markdown",
   "metadata": {
    "id": "ojVUugwZOVro"
   },
   "source": [
    "## Random forest Optimization "
   ]
  },
  {
   "cell_type": "code",
   "execution_count": null,
   "metadata": {
    "id": "YvgfAKU5OVrp",
    "outputId": "d0898bd5-5a34-4513-f2f8-8e1924ddfa7a"
   },
   "outputs": [],
   "source": [
    "X_train_val1 = pd.concat([X_train_1, X_val1_1, X_val2_1],axis=0,ignore_index=True)\n",
    "y_train_val1 = np.concatenate([y_train, y_val1 , y_val2])\n",
    "# Create a list where train data indices are -1 and validation data indices are 0\n",
    "split_index = np.concatenate([np.ones(X_train_1.shape[0])*-1, np.zeros(X_val1_1.shape[0]), np.ones(X_val2_1.shape[0])])\n",
    "# Use the list to create PredefinedSplit\n",
    "pds = PredefinedSplit(test_fold = split_index)\n",
    "\n",
    "rf=RandomForestClassifier(random_state=2000, n_jobs=-1)\n",
    "rf2 = Pipeline([\n",
    "\t# (\"kmeans\", KMeans()),\n",
    "\t(\"rndf_clf\", RandomForestClassifier(random_state=2000, n_jobs=-1))\n",
    "])\n",
    "\n",
    "# Create the random grid\n",
    "random_grid = {'n_estimators': [400, 500, 600],\n",
    "               'max_features': [2, 4, 8, 'auto']\n",
    "               'max_depth': [2, 5, None],\n",
    "               'bootstrap': [True, False],\n",
    "               'class_weight':['balanced', None]\n",
    "               }\n",
    "print(random_grid)"
   ]
  },
  {
   "cell_type": "code",
   "execution_count": null,
   "metadata": {
    "id": "LXlP3ZwTOVrp",
    "outputId": "ec094c7b-9503-4f78-cfa4-7e03c31c8086"
   },
   "outputs": [],
   "source": [
    "rf_random = RandomizedSearchCV(estimator = rf, param_distributions = random_grid, n_iter = 50, cv = pds, verbose=2, random_state=2000, n_jobs = -1)\n",
    "# Fit the random search model\n",
    "rf_random.fit(X_train_val1,y_train_val1)"
   ]
  },
  {
   "cell_type": "code",
   "execution_count": null,
   "metadata": {
    "id": "37wI7Hi1OVrp"
   },
   "outputs": [],
   "source": [
    "rf_random.best_params_"
   ]
  },
  {
   "cell_type": "code",
   "execution_count": null,
   "metadata": {
    "id": "SZBmyVuuOVrp"
   },
   "outputs": [],
   "source": [
    "'''\n",
    "{'n_estimators': 500,\n",
    " 'max_features': 'auto',\n",
    " 'max_depth': None,\n",
    " 'class_weight': 'balanced',\n",
    " 'bootstrap': False}\n",
    "'''"
   ]
  },
  {
   "cell_type": "markdown",
   "metadata": {
    "id": "24JDI-uIOVrp"
   },
   "source": [
    "---\n",
    "\n",
    "### Evaluation of optimized classifier"
   ]
  },
  {
   "cell_type": "code",
   "execution_count": null,
   "metadata": {
    "id": "Xn3ykwA7OVrq",
    "outputId": "fb1d8637-88f7-476d-c6cd-977ff3df16dd"
   },
   "outputs": [],
   "source": [
    "#######################\n",
    "# Evaluation\n",
    "######################\n",
    "\n",
    "X_traint = X_train_ss.copy()\n",
    "X_val1t = X_val1_ss.copy()\n",
    "X_val2t = X_val2_ss.copy()\n",
    "\n",
    "# Optimized hyperparameters\n",
    "clf = RandomForestClassifier(random_state=2000, n_estimators=500, n_jobs=-1,  bootstrap = False)#max_features = 4, class_weight='balanced', , n_estimators=300, max_features='auto'\n",
    "clf.fit(X_traint, y_train) "
   ]
  },
  {
   "cell_type": "code",
   "execution_count": null,
   "metadata": {
    "id": "6cXKw2LdOVrq",
    "outputId": "b6c3a592-f5ea-4273-e48d-189043f2427c"
   },
   "outputs": [],
   "source": [
    "ev_5 = Evaluation()\n",
    "ev_5.clf= clf\n",
    "\n",
    "datasets = [X_traint, X_val1t, X_val2t]\n",
    "y_datasets = [y_train, y_val1, y_val2]\n",
    "title=['Training set', 'Validation set #1', 'Validation set #2']\n",
    "det_train, det_val1, det_val2 = [ev_5.evaluate(datasets[i], y_datasets[i], title[i]) for i in range(3)]\n",
    "ev_5.feature_importance()"
   ]
  },
  {
   "cell_type": "markdown",
   "metadata": {
    "id": "ix78wR7IOVrq"
   },
   "source": [
    "---\n",
    "\n",
    "### Display precision/recall vs threshold"
   ]
  },
  {
   "cell_type": "code",
   "execution_count": null,
   "metadata": {
    "id": "3Jx_yackOVrq",
    "outputId": "0f06ca35-0c32-49d8-a069-c88c671e1fa2"
   },
   "outputs": [],
   "source": [
    "def plot_precision_recall_vs_threshold(clf, X, y): \n",
    "    '''plot_precision_recall_vs_threshold(clf, X)'''\n",
    "    \n",
    "    y_scores = clf.predict_proba(X)[:,1]\n",
    "    #y_scores = rnf_clf.decision_function(X_val)\n",
    "    precisions, recalls, thresholds = precision_recall_curve(y, y_scores)\n",
    "    \n",
    "    plt.figure(figsize=(10,4))\n",
    "    plt.subplot(121)\n",
    "    plt.plot(thresholds, precisions[:-1], \"b--\", label=\"Precision\") \n",
    "    plt.plot(thresholds, recalls[:-1], \"g-\", label=\"Recall\")\n",
    "    plt.xlabel('threshold')\n",
    "    plt.legend()\n",
    "    plt.grid()\n",
    "\n",
    "    plt.subplot(122)\n",
    "    plt.plot(recalls,precisions)\n",
    "    plt.xlabel('recall')\n",
    "    plt.ylabel('precision')\n",
    "    plt.grid()\n",
    "\n",
    "    plt.tight_layout()\n",
    "    plt.show()\n",
    "\n",
    "plot_precision_recall_vs_threshold(clf, X_val1t, y_val1)"
   ]
  },
  {
   "cell_type": "markdown",
   "metadata": {
    "id": "5NaIU8A0OVrr"
   },
   "source": [
    "---\n",
    "\n",
    "## Evaluation of the best model on the test set\n",
    "\n",
    "- The model was trained using 10 consecutive months of transactions, exclueded 20.000 randomly selected transactions that we used as validation set.\n",
    "\n",
    "- Here we evaluate the performance of the model on two new months of transactions (20.000 transactions). \n",
    "\n",
    "- We generate 20 random subsamples, each one corresponding to one month of transactions (i.e. 10.000 trans.), from the test set (i.e. bootstrap). \n",
    "\n",
    "- For each subsample, we use the model to select the 400 transactions more likely to be a fraud. Then, we estimate the percentage of the total fraud transactions of the month we have found. \n",
    "\n",
    "- As a control, we also show the average percentage of frauds we can detect by randomly selecting 400 transactions from the same subsamples.  \n",
    "\n",
    "- Furthermore, we show the average percentage of frauds we can detect using the model from the validation set. "
   ]
  },
  {
   "cell_type": "markdown",
   "metadata": {
    "id": "lfNkrOTROVrr"
   },
   "source": [
    "### Pre-processing"
   ]
  },
  {
   "cell_type": "code",
   "execution_count": null,
   "metadata": {
    "id": "_MXKwlxIOVrr",
    "outputId": "74b5b65d-d7b7-4412-decf-1f49fd023a01"
   },
   "outputs": [],
   "source": [
    "\n",
    "def PreProcess(X_train, X_test):\n",
    "    '''\n",
    "    X_train_pp, X_test_pp = PreProcess(X_train, X_test) \n",
    "\n",
    "    Transform the row data using the pre-processing steps selected using the validation sets\n",
    "    '''\n",
    "    datasets = [X_train, X_test]\n",
    "    # 1. reset index\n",
    "    X_train, X_test = [reset_indexes(datasets[i]) for i in range(2)]\n",
    "    # 2. transform categorical features \n",
    "    col_list = ['accountNumber','merchantId', 'merchantZip']\n",
    "    le = LabelEncoderExt()\n",
    "    for col in col_list:\n",
    "        le.fit(X_train[col])\n",
    "        X_train[col] = le.transform(X_train[col])\n",
    "        X_test[col] = le.transform(X_test[col])\n",
    "\n",
    "    # 3. Add time features \n",
    "    datasets = [X_train, X_test]\n",
    "    X_train, X_test = [add_time(datasets[i]) for i in range(2)]\n",
    "\n",
    "    # 4. Drop eventId\n",
    "    X_train.drop(columns=['eventId'],inplace=True)\n",
    "    X_test.drop(columns=['eventId'],inplace=True)\n",
    "\n",
    "    # 5. Standardize\n",
    "    ss = StandardScaler()\n",
    "    X_train = pd.DataFrame(ss.fit_transform(X_train), columns=X_train.columns)\n",
    "    X_test  = pd.DataFrame(ss.transform(X_test), columns=X_test.columns)\n",
    "    return X_train, X_test\n",
    "\n",
    "\n",
    "\n",
    "X_train_full_ss, X_test_ss = PreProcess(X_train_full, X_test) "
   ]
  },
  {
   "cell_type": "markdown",
   "metadata": {},
   "source": [
    "#### Training"
   ]
  },
  {
   "cell_type": "code",
   "execution_count": null,
   "metadata": {
    "id": "o-58s6FxOVrr",
    "outputId": "8b297807-a98c-4637-9642-de1cd2101f8d"
   },
   "outputs": [],
   "source": [
    "# Optimized hyperparameters\n",
    "clf = RandomForestClassifier(random_state=2000, n_estimators=500, n_jobs=-1,  bootstrap = False)#max_features = 4, class_weight='balanced', , n_estimators=300, max_features='auto'\n",
    "clf.fit(X_train_full_ss, y_train_full) "
   ]
  },
  {
   "cell_type": "markdown",
   "metadata": {},
   "source": [
    "#### Evaluation"
   ]
  },
  {
   "cell_type": "code",
   "execution_count": null,
   "metadata": {
    "id": "bQidMGOGOVrr",
    "outputId": "93b21518-c11c-4979-b615-122821f478f1"
   },
   "outputs": [],
   "source": [
    "X_testt= X_test_ss.copy()\n",
    "ev_6 = Evaluation()\n",
    "ev_6.clf = clf\n",
    "\n",
    "N = 10000 # sample size corresponding to 1 month\n",
    "percent_frauds, percent_frauds_control = [], []\n",
    "money_saved, total_money  = [], []\n",
    "for n_tests in range(20):\n",
    "\n",
    "    # Test set\n",
    "    ii = np.random.RandomState(seed=n_tests ).permutation(np.arange(1,X_testt.shape[0],1))\n",
    "    bs_index = ii[:N]\n",
    "    xtt = X_testt.iloc[bs_index,:].copy()\n",
    "    ytt = y_test[bs_index]\n",
    "    y_val_prob = clf.predict_proba(xtt)\n",
    "    s = ev_6.Res(y_val_prob[:,1], ytt)\n",
    "    percent_frauds.append(s)\n",
    "\n",
    "    #money_saved.append( ev_6.Saved_Money() )\n",
    "    #ev_5.X = xtt\n",
    "    #ev_5.y = ytt\n",
    "    #total_money.append(ev_5.transAmount_total)\n",
    "    #print(f'test set: detected {s} % ')\n",
    "    \n",
    "    # Control: random selection \n",
    "    ii = np.random.RandomState(seed=n_tests ).permutation(np.arange(1,len(y_test),1))\n",
    "    sens = sum(y_test[ii[:400]])/sum(y_test)*100\n",
    "    percent_frauds_control.append(sens)\n",
    "    #print(f'random selection: detected {sens}%')\n",
    "    \n",
    "    \n",
    "print('Average across 20 bootstrapped datasets')\n",
    "print(f'1) model selection on test set {np.mean(percent_frauds)} % ')\n",
    "print(f'2) random selection on test set {np.mean(percent_frauds_control)} %')\n",
    "#print(f'3) model selection on validation set {np.mean(percent_frauds_cv)}')  \n",
    "# print(f'4) Money saved per month {np.mean(money_saved)} over {np.mean(total_money)} GBP')  "
   ]
  },
  {
   "cell_type": "markdown",
   "metadata": {
    "id": "9skVLhyeOVrs"
   },
   "source": [
    "#### Comment \n",
    "If our client was randomly selecting 400 transactions per month to check for frauds, it would detect less than the 2% of the them. On the other hand, **using my model it would detect 15 times more frauds (the 30%)!**\n",
    "\n",
    "This classification task is challenging for many reasons: \n",
    "- the unbalance in the categories (only 1% of frauds)\n",
    "- the very high detection threshold (we need to select 400 trials out of 10.000)\n",
    "- fraudsters constantly optimize their strategy to escape anomaly detection strategies\n",
    "- Finally, since we train the model over a certain period of time and then predict frauds from a different period (two new months), this is an **extrapolation problem**. \n",
    "Since the behaviors of the owners of the accounts and the fraudsters change over time, generalizations to future transactions are difficult.   \n",
    "\n",
    "The model performance would be way better if we were randomly sampling the test set transactions over the same period of time as the training set. \n",
    "\n",
    "I am going to show that in the next session. \n",
    "\n",
    "---"
   ]
  },
  {
   "cell_type": "markdown",
   "metadata": {},
   "source": [
    "## Model peformance: test set from the same period of time as the training set "
   ]
  },
  {
   "cell_type": "code",
   "execution_count": null,
   "metadata": {},
   "outputs": [],
   "source": [
    "# Split the data by random sampling \n",
    "# --------------------------------\n",
    "# Create a training set and two validation sets \n",
    "splitter_test = StratifiedShuffleSplit(n_splits=2, \n",
    "    test_size=20000, random_state=1000)\n",
    "\n",
    "for train_index, test_index in splitter_test.split(data, y):\n",
    "    X_train, X_test1 = data.loc[train_index], data.loc[test_index]\n",
    "    y_train, y_test1 = y[train_index], y[test_index]\n",
    "\n",
    "\n",
    "# Pre-processing \n",
    "# --------------------------------\n",
    "X_train_control, X_test_control = PreProcess(X_train, X_test1) \n",
    "\n",
    "clf_2 = RandomForestClassifier(random_state=2000, n_estimators=500, n_jobs=-1,  bootstrap = False)#max_features = 4, class_weight='balanced', , n_estimators=300, max_features='auto'\n",
    "clf_2.fit(X_train_control, y_train) \n",
    "\n",
    "# Evaluation\n",
    "# --------------------------------\n",
    "X_testt= X_test_control.copy()\n",
    "ev_7 = Evaluation()\n",
    "ev_7.clf = clf_2\n",
    "\n",
    "N = 10000 # sample size corresponding to 1 month\n",
    "\n",
    "percent_frauds_contr2 = [] \n",
    "money_saved, total_money  = [], []\n",
    "for n_tests in range(20):\n",
    "\n",
    "    # Test set\n",
    "    ii = np.random.RandomState(seed=n_tests ).permutation(np.arange(1,X_testt.shape[0],1))\n",
    "    bs_index = ii[:N]\n",
    "    xtt = X_testt.iloc[bs_index,:].copy()\n",
    "    ytt = y_test1[bs_index]\n",
    "    y_val_prob = clf.predict_proba(xtt)\n",
    "    s = ev_7.Res(y_val_prob[:,1], ytt)\n",
    "    percent_frauds_contr2.append(s)\n",
    "\n",
    "print(f'2) random selection on test set {np.mean(percent_frauds_contr2)} %')\n"
   ]
  },
  {
   "cell_type": "markdown",
   "metadata": {},
   "source": [
    "#### Comment \n",
    "As expected, If the test data are sampled from the same period of time as the training data (cross-validation) the performance of the model raises to 91% on average. \n",
    "\n",
    "This confirms that the model does a pretty good job in predicting new frauds. The limitations in its performance depend on the variability of the data across time. \n",
    "\n",
    "---"
   ]
  },
  {
   "cell_type": "markdown",
   "metadata": {},
   "source": [
    "## Summary Figure"
   ]
  },
  {
   "cell_type": "code",
   "execution_count": null,
   "metadata": {
    "id": "1oZmt8EyOVrs",
    "outputId": "d0ecd098-2bd1-4108-f962-eed1f54cc5a0"
   },
   "outputs": [],
   "source": [
    "a = pd.DataFrame()\n",
    "a['w/o model'] = percent_frauds_control # random selection\n",
    "a['with model \\n (extrapol.)'] = percent_frauds\n",
    "a['with model \\n (interpol.)'] = percent_frauds_contr2\n",
    "\n",
    "plt.figure(figsize=(6,5))\n",
    "a.boxplot()\n",
    "plt.ylabel('frauds detected (%)')\n",
    "plt.title('Model Performance on Test set')\n",
    "plt.ylim([-5,100])\n",
    "\n",
    "# task: select the 400 transactions over 10000 with the higer probability to be a fraud\n",
    "#txt=\"task: select the 400 transactions over 10000 with the higer probability to be a fraud\"\n",
    "#plt.figtext(0.4, -0.1, txt, wrap=True, horizontalalignment='center', fontsize=12)"
   ]
  },
  {
   "cell_type": "markdown",
   "metadata": {
    "id": "2r2s5jFYOVrs"
   },
   "source": [
    "## Summary \n",
    "The goal of this study was the selection of a machine learning pipeline to predict the probability of frauds based on trasactions features. \n",
    "\n",
    "I created many diffent new features and tested several classification algorithms (supervised and unsupervised). \n",
    "\n",
    "I found that a Random Forest Classifier produces the best performance. \n",
    "\n",
    "I optimized the hyperparameters of this classifier and estimated the performance on the test set. \n",
    "\n",
    "Overall, using this model our client will detect 15 times more frauds than by randomly selecting the transactions to check. \n",
    "\n",
    "___"
   ]
  },
  {
   "cell_type": "markdown",
   "metadata": {
    "id": "V123ZThFOVrs"
   },
   "source": [
    "## Neural network\n",
    "I am going to test if a NN can produce better performance on this task"
   ]
  },
  {
   "cell_type": "code",
   "execution_count": null,
   "metadata": {
    "id": "kOpneiBrOVrs"
   },
   "outputs": [],
   "source": [
    "from sklearn.preprocessing import StandardScaler\n",
    "ss = StandardScaler()\n",
    "\n",
    "X_train_ss = pd.DataFrame(ss.fit_transform(X_train_1), columns=X_train_1.columns)\n",
    "X_val1_ss  = pd.DataFrame(ss.transform(X_val1_1), columns=X_val1_1.columns)\n",
    "X_val2_ss  = pd.DataFrame(ss.transform(X_val2_1), columns=X_val2_1.columns)\n",
    "\n",
    "X_traint = X_train_ss.copy()\n",
    "X_val1t  = X_val1_ss.copy()\n",
    "X_val2t  = X_val2_ss.copy()\n",
    "\n"
   ]
  },
  {
   "cell_type": "markdown",
   "metadata": {
    "id": "IHs3-fyXOVrt"
   },
   "source": [
    "## Optimize NN"
   ]
  },
  {
   "cell_type": "code",
   "execution_count": null,
   "metadata": {
    "id": "BM1zvHqaOVrt"
   },
   "outputs": [],
   "source": [
    "n_feat = X_train_ss.shape[-1]\n",
    "def build_model(n_hidden=0, n_neurons=10, learning_rate=1e-3, dropout=0,  n_feat=n_feat):\n",
    "    model = keras.models.Sequential()\n",
    "    model.add(keras.layers.Dense(n_feat, input_dim=n_feat, activation='relu',kernel_initializer=\"he_normal\"))\n",
    "    model.add(keras.layers.Dropout(rate=dropout))\n",
    "    for layer in range(n_hidden):\n",
    "        keras.layers.Dropout(rate=dropout)\n",
    "        model.add(keras.layers.Dense(n_neurons, activation='relu', kernel_initializer=\"he_normal\"))\n",
    "    model.add(keras.layers.Dense(1, activation='sigmoid'))\n",
    "    optimizer = keras.optimizers.Nadam(learning_rate=learning_rate)\n",
    "    model.compile(loss='binary_crossentropy', optimizer=optimizer, metrics=['AUC'])\n",
    "    return model\n",
    "\n",
    "\n",
    "keras_reg = keras.wrappers.scikit_learn.KerasClassifier(build_model)\n",
    "\n",
    "early_stopping_cb = keras.callbacks.EarlyStopping(patience=10, restore_best_weights=True) # stop training earlier if there are no progresses\n",
    "\n",
    "from scipy.stats import reciprocal\n",
    "from sklearn.model_selection import RandomizedSearchCV\n",
    "\n",
    "param_distribs = {\n",
    "    'n_hidden':[0,1,2,3],\n",
    "    'n_neurons':[5, 50, 100],\n",
    "    'dropout': [0, 0.2, 0.5],\n",
    "    'learning_rate':[0.001, 0.0001, 0.01]\n",
    "}\n",
    "\n",
    "\n",
    "X_train_val1 = pd.concat([X_train_ss, X_val1_ss, X_val2_ss],axis=0,ignore_index=True)\n",
    "y_train_val1 = np.concatenate([y_train, y_val1 , y_val2])\n",
    "# Create a list where train data indices are -1 and validation data indices are 0\n",
    "\n",
    "combine_val_sets = True\n",
    "if combine_val_sets:\n",
    "    # combine validation sets (to increase speed)\n",
    "    split_index = np.concatenate([np.ones(X_train_1.shape[0])*-1, np.zeros(X_val1_1.shape[0]+ X_val2_1.shape[0])])\n",
    "else:\n",
    "    # keep the two validation sets separated \n",
    "    split_index = np.concatenate([np.ones(X_train_1.shape[0])*-1, np.zeros(X_val1_1.shape[0]), np.ones(X_val2_1.shape[0])])\n",
    "\n",
    "\n",
    "\n",
    "# Use the list to create PredefinedSplit\n",
    "pds = PredefinedSplit(test_fold = split_index)\n",
    "\n",
    "\n",
    "rnf_search = RandomizedSearchCV(keras_reg, param_distribs, n_iter=50, cv=pds, verbose=2, random_state=2000, n_jobs = -1)\n",
    "\n",
    "# Fit the random search model\n",
    "BATCH_SIZE = 32\n",
    "history = rnf_search.fit(X_train_val1, y_train_val1, epochs=20, \n",
    "            validation_data=(X_val1_ss, y_val1), \n",
    "            callbacks=[early_stopping_cb],\n",
    "            batch_size=BATCH_SIZE)"
   ]
  },
  {
   "cell_type": "code",
   "execution_count": null,
   "metadata": {
    "id": "PlSWidHaOVrt",
    "outputId": "02030f34-8d67-4906-b4a2-5834009799f4"
   },
   "outputs": [],
   "source": [
    "rnf_search.best_params_\n",
    "# {'n_neurons': 5, 'n_hidden': 1, 'learning_rate': 0.001, 'dropout': 0}"
   ]
  },
  {
   "cell_type": "markdown",
   "metadata": {
    "id": "6AMU1eRoOVrt"
   },
   "source": [
    "### Optimized NN model on validation set "
   ]
  },
  {
   "cell_type": "code",
   "execution_count": null,
   "metadata": {
    "id": "3V7m4UmcOVrt",
    "outputId": "a808b360-9696-4864-8331-ecebdbc50585"
   },
   "outputs": [],
   "source": [
    "n_feat = X_traint.shape[-1]\n",
    "model = keras.models.Sequential([\n",
    "    keras.layers.Dense(n_feat, input_dim=n_feat, activation='relu',kernel_initializer=\"he_normal\" ), # ,kernel_regularizer=keras.regularizers.l2() ,kernel_regularizer=keras.regularizers.l2(0.001)\n",
    "    keras.layers.Dense(1, activation='sigmoid') # one output neuron for each class\n",
    "])\n",
    "model.compile(loss='binary_crossentropy', optimizer='nadam', metrics=['AUC'])\n",
    "\n",
    "early_stopping_cb = keras.callbacks.EarlyStopping(patience=10, restore_best_weights=True) # stop training earlier if there are no progresses\n",
    "\n",
    "BATCH_SIZE = 32\n",
    "history = model.fit(X_traint, y_train, epochs=30, \n",
    "                    validation_data=(X_val1t, y_val1), \n",
    "                    callbacks=[early_stopping_cb],\n",
    "                    batch_size=BATCH_SIZE)"
   ]
  },
  {
   "cell_type": "markdown",
   "metadata": {
    "id": "fCd8bCX9OVru"
   },
   "source": [
    "### Learning curves of the traning and validation sets  "
   ]
  },
  {
   "cell_type": "code",
   "execution_count": null,
   "metadata": {
    "id": "_1EATWZGOVru",
    "outputId": "7974a832-34a3-4871-850d-08df97ea9a1b"
   },
   "outputs": [],
   "source": [
    "pd.DataFrame(history.history).plot(figsize=(8,5))\n",
    "plt.grid()\n",
    "plt.gca().set_ylim(0,1)"
   ]
  },
  {
   "cell_type": "markdown",
   "metadata": {
    "id": "gNRkn5_BOVru"
   },
   "source": [
    "#### Comment: \n",
    "The AUC of training and validation sets are very similar, therefore the model is not overfitting. \n",
    "\n",
    "---"
   ]
  },
  {
   "cell_type": "markdown",
   "metadata": {},
   "source": [
    "### Evaluation on validation set"
   ]
  },
  {
   "cell_type": "code",
   "execution_count": null,
   "metadata": {
    "id": "woWaSCCNOVrv",
    "outputId": "3a259640-4f66-44b8-f4a2-96b60c0bcb11"
   },
   "outputs": [],
   "source": [
    "def Res(y_val_prob, y_test):\n",
    "    # find index of pool with higher prob\n",
    "    prob = np.sort(y_val_prob)\n",
    "    pp_thr = prob[-399]\n",
    "    ii = np.where(y_val_prob>pp_thr)\n",
    "    yy_val = y_test[ii]\n",
    "    sens = sum(yy_val)/sum(y_test)*100\n",
    "    print(f'by checking 400 trans. per month we can find {round(sens)}% of the frauds (tot {sum(y_test)}) ')\n",
    "    #return sens\n",
    "\n",
    "\n",
    "y_val_prob =  model.predict(X_val1t)\n",
    "\n",
    "\n",
    "p = y_val_prob[:,-1].copy()\n",
    "p[p<0.5] = 0\n",
    "p[p>=0.5] = 1\n",
    "\n",
    "conf =confusion_matrix(y_val1, p )\n",
    "print(conf)\n",
    "\n",
    "f1 = f1_score(y_val1, p)\n",
    "print(f1)\n",
    "\n",
    "Res(y_val_prob[:,-1], y_val1)\n",
    "\n",
    "#---\n",
    "y_val_prob =  model.predict(X_val2t)\n",
    "p = y_val_prob[:,-1].copy()\n",
    "p[p<0.5] = 0\n",
    "p[p>=0.5] = 1\n",
    "conf =confusion_matrix(y_val2, p )\n",
    "print(conf)\n",
    "\n",
    "f1 = f1_score(y_val2, p)\n",
    "print(f1)\n",
    "\n",
    "Res(y_val_prob[:,-1], y_val2)"
   ]
  },
  {
   "cell_type": "markdown",
   "metadata": {},
   "source": [
    "---\n",
    "\n",
    "### Training on training set + validation set to evaluate on test set"
   ]
  },
  {
   "cell_type": "code",
   "execution_count": null,
   "metadata": {
    "id": "yGYPjkO6OVrv",
    "outputId": "7fa5ffb2-b0a8-4be1-c2fb-42d0a69a3529"
   },
   "outputs": [],
   "source": [
    "n_feat = X_train_full_ss.shape[-1]\n",
    "model = keras.models.Sequential([\n",
    "    keras.layers.Dense(n_feat, input_dim=n_feat, activation='relu',kernel_initializer=\"he_normal\" ), # ,kernel_regularizer=keras.regularizers.l2() ,kernel_regularizer=keras.regularizers.l2(0.001)\n",
    "    keras.layers.Dense(1, activation='sigmoid') # one output neuron for each class\n",
    "])\n",
    "model.compile(loss='binary_crossentropy', optimizer='nadam', metrics=['AUC'])\n",
    "\n",
    "early_stopping_cb = keras.callbacks.EarlyStopping(patience=10, restore_best_weights=True) # stop training earlier if there are no progresses\n",
    "\n",
    "BATCH_SIZE = 32\n",
    "history = model.fit(X_train_full_ss, y_train_full, epochs=30, \n",
    "                    validation_data=(X_test_ss, y_test), \n",
    "                    callbacks=[early_stopping_cb],\n",
    "                    batch_size=BATCH_SIZE)"
   ]
  },
  {
   "cell_type": "code",
   "execution_count": null,
   "metadata": {
    "id": "zlkK2nwfOVrw",
    "outputId": "0245d477-b280-4180-87ea-2739a2f30655"
   },
   "outputs": [],
   "source": [
    "history.params"
   ]
  },
  {
   "cell_type": "markdown",
   "metadata": {},
   "source": [
    "### Display learning curve test set"
   ]
  },
  {
   "cell_type": "code",
   "execution_count": null,
   "metadata": {
    "id": "DnB_aPjPOVrw",
    "outputId": "4267a6ed-7db1-4b1d-f3ca-e0d91b8a03f0"
   },
   "outputs": [],
   "source": [
    "pd.DataFrame(history.history).plot(figsize=(8,5))\n",
    "plt.grid()\n",
    "plt.gca().set_ylim(0,1)"
   ]
  },
  {
   "cell_type": "markdown",
   "metadata": {},
   "source": [
    "#### Comment\n",
    "Here the overfitting is very severe\n",
    "\n",
    "---"
   ]
  },
  {
   "cell_type": "markdown",
   "metadata": {},
   "source": [
    "### Evaluation on the test set"
   ]
  },
  {
   "cell_type": "code",
   "execution_count": null,
   "metadata": {
    "id": "3OHP7Bt4OVrx",
    "outputId": "706c55c5-b103-4ef3-8177-062324197094"
   },
   "outputs": [],
   "source": [
    "X_testt= X_test_ss.copy()\n",
    "ev_7 = Evaluation()\n",
    "ev_7.clf = model\n",
    "\n",
    "N = 10000 # sample size corresponding to 1 month\n",
    "percent_frauds, percent_frauds_control, percent_frauds_cv = [], [], []\n",
    "money_saved, total_money  = [], []\n",
    "for n_tests in range(20):\n",
    "\n",
    "    # Test set\n",
    "    ii = np.random.RandomState(seed=n_tests ).permutation(np.arange(1,X_testt.shape[0],1))\n",
    "    bs_index = ii[:N]\n",
    "    xtt = X_testt.iloc[bs_index,:].copy()\n",
    "    ytt = y_test[bs_index]\n",
    "\n",
    "    # adapted \n",
    "    y_val_prob = model.predict(xtt)\n",
    "    \n",
    "    s = ev_7.Res(y_val_prob[:,-1], ytt)\n",
    "    \n",
    "    percent_frauds.append(s)\n",
    "\n",
    "    # Control: random selection \n",
    "    ii = np.random.RandomState(seed=n_tests ).permutation(np.arange(1,len(y_test),1))\n",
    "    sens = sum(y_test[ii[:400]])/sum(y_test)*100\n",
    "    percent_frauds_control.append(sens)\n",
    "    #print(f'random selection: detected {sens}%')\n",
    "    \n",
    "    \n",
    "print('Average across 20 bootstrapped datasets')\n",
    "print(f'1) model selection on test set {np.mean(percent_frauds)} % ')\n",
    "print(f'2) random selection on test set {np.mean(percent_frauds_control)} %')"
   ]
  },
  {
   "cell_type": "markdown",
   "metadata": {
    "id": "UASXhLZeOVrx"
   },
   "source": [
    "#### Comment \n",
    "The performance of a shallow NN is half the one of the Random forest. "
   ]
  }
 ],
 "metadata": {
  "colab": {
   "name": "Fraud_detection_Main.ipynb",
   "provenance": []
  },
  "interpreter": {
   "hash": "c23ee3fccbed95bccca0bb63ea1e751c9b23408dd108647319a30ecb7de73e29"
  },
  "kernelspec": {
   "display_name": "Python 3 (ipykernel)",
   "language": "python",
   "name": "python3"
  },
  "language_info": {
   "codemirror_mode": {
    "name": "ipython",
    "version": 3
   },
   "file_extension": ".py",
   "mimetype": "text/x-python",
   "name": "python",
   "nbconvert_exporter": "python",
   "pygments_lexer": "ipython3",
   "version": "3.9.5"
  }
 },
 "nbformat": 4,
 "nbformat_minor": 1
}
